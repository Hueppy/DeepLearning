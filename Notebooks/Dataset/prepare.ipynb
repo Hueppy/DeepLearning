{
 "cells": [
  {
   "cell_type": "code",
   "execution_count": 19,
   "id": "87126e4e",
   "metadata": {},
   "outputs": [],
   "source": [
    "import os\n",
    "import shutil\n",
    "import glob"
   ]
  },
  {
   "cell_type": "markdown",
   "id": "010801c7",
   "metadata": {},
   "source": []
  },
  {
   "cell_type": "code",
   "execution_count": 20,
   "id": "b39c5ea4",
   "metadata": {},
   "outputs": [],
   "source": [
    "classes = [\n",
    "    \"apple\",\n",
    "    \"apricot\",\n",
    "    \"avocado\",\n",
    "    \"banana\",\n",
    "    \"bell pepper\",\n",
    "    \"black berry\",\n",
    "    \"blueberry\",\n",
    "    \"cantaloupe\",\n",
    "    \"cherry\",\n",
    "    \"clementine\",\n",
    "    \"eggplant\",\n",
    "    \"grape\",\n",
    "    \"grapefruit\",\n",
    "    \"kiwi\",\n",
    "    \"lemon\",\n",
    "    \"lime\",\n",
    "    \"mandarine\",\n",
    "    \"nectarine\",\n",
    "    \"orange\",\n",
    "    \"pear\",\n",
    "    \"pineapple\",\n",
    "    \"pomegranate\",\n",
    "    \"raspberry\",\n",
    "    \"strawberry\",\n",
    "    \"watermelon\",\n",
    "]"
   ]
  },
  {
   "cell_type": "code",
   "execution_count": 21,
   "id": "5879e674",
   "metadata": {},
   "outputs": [],
   "source": [
    "if os.path.isdir('train'):\n",
    "    shutil.rmtree('train')\n",
    "os.mkdir('train')\n",
    "\n",
    "for c in classes:\n",
    "    shutil.copytree(f'Fruit-262/{c}', f'train/{c}')"
   ]
  },
  {
   "cell_type": "code",
   "execution_count": 40,
   "id": "5d0ac013",
   "metadata": {},
   "outputs": [],
   "source": [
    "if os.path.isdir('test'):\n",
    "    shutil.rmtree('test')\n",
    "os.mkdir('test')\n",
    "\n",
    "for c in classes:\n",
    "    os.mkdir(f'test/{c}')\n",
    "    for f in glob.iglob(f'train/{c}/*'):\n",
    "        base = os.path.basename(f)\n",
    "        if int(os.path.splitext(base)[0]) < 100:\n",
    "            shutil.move(f, f'test/{c}/{base}')"
   ]
  },
  {
   "cell_type": "code",
   "execution_count": null,
   "id": "79411be8",
   "metadata": {},
   "outputs": [],
   "source": []
  }
 ],
 "metadata": {
  "kernelspec": {
   "display_name": "Python 3 (ipykernel)",
   "language": "python",
   "name": "python3"
  },
  "language_info": {
   "codemirror_mode": {
    "name": "ipython",
    "version": 3
   },
   "file_extension": ".py",
   "mimetype": "text/x-python",
   "name": "python",
   "nbconvert_exporter": "python",
   "pygments_lexer": "ipython3",
   "version": "3.8.10"
  }
 },
 "nbformat": 4,
 "nbformat_minor": 5
}
