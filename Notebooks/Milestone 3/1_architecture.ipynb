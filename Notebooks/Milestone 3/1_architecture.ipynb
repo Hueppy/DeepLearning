{
 "cells": [
  {
   "cell_type": "code",
   "execution_count": 1,
   "id": "58615c2b",
   "metadata": {},
   "outputs": [
    {
     "name": "stderr",
     "output_type": "stream",
     "text": [
      "2023-05-26 17:13:23.396095: I tensorflow/core/platform/cpu_feature_guard.cc:182] This TensorFlow binary is optimized to use available CPU instructions in performance-critical operations.\n",
      "To enable the following instructions: AVX2 FMA, in other operations, rebuild TensorFlow with the appropriate compiler flags.\n"
     ]
    }
   ],
   "source": [
    "import tensorflow as tf\n",
    "import datetime\n",
    "import os\n",
    "\n",
    "import numpy as np\n",
    "import matplotlib.pyplot as plt"
   ]
  },
  {
   "cell_type": "markdown",
   "id": "01ed971d",
   "metadata": {},
   "source": [
    "### Prepare Datasets\n",
    "\n",
    " * Load train dataset and split into train and validation sets\n",
    " * Load test dataset"
   ]
  },
  {
   "cell_type": "code",
   "execution_count": 2,
   "id": "e26a4815",
   "metadata": {},
   "outputs": [
    {
     "name": "stdout",
     "output_type": "stream",
     "text": [
      "Found 22573 files belonging to 25 classes.\n",
      "Using 20316 files for training.\n",
      "Using 2257 files for validation.\n",
      "Found 2500 files belonging to 25 classes.\n"
     ]
    },
    {
     "name": "stderr",
     "output_type": "stream",
     "text": [
      "2023-05-26 17:13:25.378908: I tensorflow/compiler/xla/stream_executor/cuda/cuda_gpu_executor.cc:996] successful NUMA node read from SysFS had negative value (-1), but there must be at least one NUMA node, so returning NUMA node zero. See more at https://github.com/torvalds/linux/blob/v6.0/Documentation/ABI/testing/sysfs-bus-pci#L344-L355\n",
      "2023-05-26 17:13:25.382356: I tensorflow/compiler/xla/stream_executor/cuda/cuda_gpu_executor.cc:996] successful NUMA node read from SysFS had negative value (-1), but there must be at least one NUMA node, so returning NUMA node zero. See more at https://github.com/torvalds/linux/blob/v6.0/Documentation/ABI/testing/sysfs-bus-pci#L344-L355\n",
      "2023-05-26 17:13:25.382515: I tensorflow/compiler/xla/stream_executor/cuda/cuda_gpu_executor.cc:996] successful NUMA node read from SysFS had negative value (-1), but there must be at least one NUMA node, so returning NUMA node zero. See more at https://github.com/torvalds/linux/blob/v6.0/Documentation/ABI/testing/sysfs-bus-pci#L344-L355\n",
      "2023-05-26 17:13:25.383117: I tensorflow/compiler/xla/stream_executor/cuda/cuda_gpu_executor.cc:996] successful NUMA node read from SysFS had negative value (-1), but there must be at least one NUMA node, so returning NUMA node zero. See more at https://github.com/torvalds/linux/blob/v6.0/Documentation/ABI/testing/sysfs-bus-pci#L344-L355\n",
      "2023-05-26 17:13:25.383260: I tensorflow/compiler/xla/stream_executor/cuda/cuda_gpu_executor.cc:996] successful NUMA node read from SysFS had negative value (-1), but there must be at least one NUMA node, so returning NUMA node zero. See more at https://github.com/torvalds/linux/blob/v6.0/Documentation/ABI/testing/sysfs-bus-pci#L344-L355\n",
      "2023-05-26 17:13:25.383388: I tensorflow/compiler/xla/stream_executor/cuda/cuda_gpu_executor.cc:996] successful NUMA node read from SysFS had negative value (-1), but there must be at least one NUMA node, so returning NUMA node zero. See more at https://github.com/torvalds/linux/blob/v6.0/Documentation/ABI/testing/sysfs-bus-pci#L344-L355\n",
      "2023-05-26 17:13:25.873109: I tensorflow/compiler/xla/stream_executor/cuda/cuda_gpu_executor.cc:996] successful NUMA node read from SysFS had negative value (-1), but there must be at least one NUMA node, so returning NUMA node zero. See more at https://github.com/torvalds/linux/blob/v6.0/Documentation/ABI/testing/sysfs-bus-pci#L344-L355\n",
      "2023-05-26 17:13:25.873283: I tensorflow/compiler/xla/stream_executor/cuda/cuda_gpu_executor.cc:996] successful NUMA node read from SysFS had negative value (-1), but there must be at least one NUMA node, so returning NUMA node zero. See more at https://github.com/torvalds/linux/blob/v6.0/Documentation/ABI/testing/sysfs-bus-pci#L344-L355\n",
      "2023-05-26 17:13:25.873415: I tensorflow/compiler/xla/stream_executor/cuda/cuda_gpu_executor.cc:996] successful NUMA node read from SysFS had negative value (-1), but there must be at least one NUMA node, so returning NUMA node zero. See more at https://github.com/torvalds/linux/blob/v6.0/Documentation/ABI/testing/sysfs-bus-pci#L344-L355\n",
      "2023-05-26 17:13:25.873534: I tensorflow/core/common_runtime/gpu/gpu_device.cc:1635] Created device /job:localhost/replica:0/task:0/device:GPU:0 with 4575 MB memory:  -> device: 0, name: NVIDIA GeForce RTX 2060, pci bus id: 0000:0b:00.0, compute capability: 7.5\n"
     ]
    }
   ],
   "source": [
    "train, validation = tf.keras.utils.image_dataset_from_directory(\n",
    "    '../Dataset/train',\n",
    "    labels='inferred',\n",
    "    label_mode='categorical',\n",
    "    image_size=(224,224),\n",
    "    seed=815,\n",
    "    validation_split=0.1,\n",
    "    subset='both'\n",
    ")\n",
    "\n",
    "test = tf.keras.utils.image_dataset_from_directory(\n",
    "    '../Dataset/test',\n",
    "    labels='inferred',\n",
    "    label_mode='categorical',\n",
    "    image_size=(224,224)\n",
    ")"
   ]
  },
  {
   "cell_type": "code",
   "execution_count": 3,
   "id": "c8e1b65b",
   "metadata": {},
   "outputs": [],
   "source": [
    "if not os.path.isdir('models'):\n",
    "    os.mkdir('models')"
   ]
  },
  {
   "cell_type": "markdown",
   "id": "850325c0",
   "metadata": {},
   "source": [
    "### Create model\n",
    " * Convolutional block\n",
    "   * Residual \"skipping\" layer\n",
    "   * Batch normalization around each convolutional layer\n",
    "   * (2,2) Max Pooling with stride (2,2) after all convulutional layers\n",
    " * Flatten\n",
    " * Dense layers with ReLu activation\n",
    " * Output layer with Softmax activation\n",
    " * Model compiled with adam optimizer"
   ]
  },
  {
   "cell_type": "code",
   "execution_count": 4,
   "id": "e7976126",
   "metadata": {},
   "outputs": [],
   "source": [
    "def generate_model(conv_layers, dense_layers):    \n",
    "    img_input = tf.keras.layers.Input(shape=(224, 224, 3))\n",
    "    x = tf.keras.layers.BatchNormalization()(img_input)\n",
    "    \n",
    "    for filters, kernel_size, depth, pool in conv_layers:\n",
    "        shortcut = tf.keras.layers.Conv2D(filters, 1, activation='relu')(x)\n",
    "        shortcut = tf.keras.layers.BatchNormalization()(shortcut)\n",
    "        \n",
    "        for i in range(depth):\n",
    "            x = tf.keras.layers.Conv2D(                \n",
    "                filters,\n",
    "                kernel_size,\n",
    "                activation='relu',\n",
    "                padding='same'\n",
    "            )(x)\n",
    "            x = tf.keras.layers.BatchNormalization()(x)\n",
    "                \n",
    "        x = tf.keras.layers.Add()([shortcut,x])\n",
    "        x = tf.keras.layers.Activation('relu')(x)\n",
    "            \n",
    "        if pool > 1:\n",
    "            x = tf.keras.layers.MaxPool2D(\n",
    "                pool_size=pool\n",
    "            )(x)\n",
    "            \n",
    "        x = tf.keras.layers.BatchNormalization()(x)\n",
    "        \n",
    "    x = tf.keras.layers.Flatten()(x)\n",
    "    \n",
    "    for units in dense_layers:\n",
    "        x = tf.keras.layers.Dense(\n",
    "            units,\n",
    "            activation='relu'\n",
    "        )(x)\n",
    "    \n",
    "    x = tf.keras.layers.Dense(\n",
    "        25,\n",
    "        activation='softmax'\n",
    "    )(x)\n",
    "    \n",
    "    \n",
    "    model = tf.keras.Model(img_input, x)\n",
    "    \n",
    "    model.compile(\n",
    "        optimizer='adam',\n",
    "        loss=tf.keras.losses.CategoricalCrossentropy(),\n",
    "        metrics=['accuracy']\n",
    "    )\n",
    "    \n",
    "    return model"
   ]
  },
  {
   "cell_type": "markdown",
   "id": "0e9b079e",
   "metadata": {},
   "source": [
    "### Run \n",
    "\n",
    " * Instantiate model with set parameters\n",
    " * Save model json to file\n",
    " * Fit model to training dataset\n",
    "   * Early stopping callback\n",
    "   * TensorBoard callback\n",
    "   * Model checkpoint callback\n",
    " * Evaluate model with test dataset"
   ]
  },
  {
   "cell_type": "code",
   "execution_count": 5,
   "id": "297aa8ac",
   "metadata": {
    "scrolled": false
   },
   "outputs": [
    {
     "name": "stdout",
     "output_type": "stream",
     "text": [
      "Model: \"model\"\n",
      "__________________________________________________________________________________________________\n",
      " Layer (type)                   Output Shape         Param #     Connected to                     \n",
      "==================================================================================================\n",
      " input_1 (InputLayer)           [(None, 224, 224, 3  0           []                               \n",
      "                                )]                                                                \n",
      "                                                                                                  \n",
      " batch_normalization (BatchNorm  (None, 224, 224, 3)  12         ['input_1[0][0]']                \n",
      " alization)                                                                                       \n",
      "                                                                                                  \n",
      " conv2d_1 (Conv2D)              (None, 224, 224, 32  896         ['batch_normalization[0][0]']    \n",
      "                                )                                                                 \n",
      "                                                                                                  \n",
      " batch_normalization_2 (BatchNo  (None, 224, 224, 32  128        ['conv2d_1[0][0]']               \n",
      " rmalization)                   )                                                                 \n",
      "                                                                                                  \n",
      " conv2d (Conv2D)                (None, 224, 224, 32  128         ['batch_normalization[0][0]']    \n",
      "                                )                                                                 \n",
      "                                                                                                  \n",
      " conv2d_2 (Conv2D)              (None, 224, 224, 32  9248        ['batch_normalization_2[0][0]']  \n",
      "                                )                                                                 \n",
      "                                                                                                  \n",
      " batch_normalization_1 (BatchNo  (None, 224, 224, 32  128        ['conv2d[0][0]']                 \n",
      " rmalization)                   )                                                                 \n",
      "                                                                                                  \n",
      " batch_normalization_3 (BatchNo  (None, 224, 224, 32  128        ['conv2d_2[0][0]']               \n",
      " rmalization)                   )                                                                 \n",
      "                                                                                                  \n",
      " add (Add)                      (None, 224, 224, 32  0           ['batch_normalization_1[0][0]',  \n",
      "                                )                                 'batch_normalization_3[0][0]']  \n",
      "                                                                                                  \n",
      " activation (Activation)        (None, 224, 224, 32  0           ['add[0][0]']                    \n",
      "                                )                                                                 \n",
      "                                                                                                  \n",
      " max_pooling2d (MaxPooling2D)   (None, 112, 112, 32  0           ['activation[0][0]']             \n",
      "                                )                                                                 \n",
      "                                                                                                  \n",
      " batch_normalization_4 (BatchNo  (None, 112, 112, 32  128        ['max_pooling2d[0][0]']          \n",
      " rmalization)                   )                                                                 \n",
      "                                                                                                  \n",
      " conv2d_4 (Conv2D)              (None, 112, 112, 64  18496       ['batch_normalization_4[0][0]']  \n",
      "                                )                                                                 \n",
      "                                                                                                  \n",
      " batch_normalization_6 (BatchNo  (None, 112, 112, 64  256        ['conv2d_4[0][0]']               \n",
      " rmalization)                   )                                                                 \n",
      "                                                                                                  \n",
      " conv2d_3 (Conv2D)              (None, 112, 112, 64  2112        ['batch_normalization_4[0][0]']  \n",
      "                                )                                                                 \n",
      "                                                                                                  \n",
      " conv2d_5 (Conv2D)              (None, 112, 112, 64  36928       ['batch_normalization_6[0][0]']  \n",
      "                                )                                                                 \n",
      "                                                                                                  \n",
      " batch_normalization_5 (BatchNo  (None, 112, 112, 64  256        ['conv2d_3[0][0]']               \n",
      " rmalization)                   )                                                                 \n",
      "                                                                                                  \n",
      " batch_normalization_7 (BatchNo  (None, 112, 112, 64  256        ['conv2d_5[0][0]']               \n",
      " rmalization)                   )                                                                 \n",
      "                                                                                                  \n",
      " add_1 (Add)                    (None, 112, 112, 64  0           ['batch_normalization_5[0][0]',  \n",
      "                                )                                 'batch_normalization_7[0][0]']  \n",
      "                                                                                                  \n",
      " activation_1 (Activation)      (None, 112, 112, 64  0           ['add_1[0][0]']                  \n",
      "                                )                                                                 \n",
      "                                                                                                  \n",
      " max_pooling2d_1 (MaxPooling2D)  (None, 56, 56, 64)  0           ['activation_1[0][0]']           \n",
      "                                                                                                  \n",
      " batch_normalization_8 (BatchNo  (None, 56, 56, 64)  256         ['max_pooling2d_1[0][0]']        \n",
      " rmalization)                                                                                     \n",
      "                                                                                                  \n",
      " conv2d_7 (Conv2D)              (None, 56, 56, 128)  73856       ['batch_normalization_8[0][0]']  \n",
      "                                                                                                  \n",
      " batch_normalization_10 (BatchN  (None, 56, 56, 128)  512        ['conv2d_7[0][0]']               \n",
      " ormalization)                                                                                    \n",
      "                                                                                                  \n",
      " conv2d_6 (Conv2D)              (None, 56, 56, 128)  8320        ['batch_normalization_8[0][0]']  \n",
      "                                                                                                  \n",
      " conv2d_8 (Conv2D)              (None, 56, 56, 128)  147584      ['batch_normalization_10[0][0]'] \n",
      "                                                                                                  \n",
      " batch_normalization_9 (BatchNo  (None, 56, 56, 128)  512        ['conv2d_6[0][0]']               \n",
      " rmalization)                                                                                     \n",
      "                                                                                                  \n",
      " batch_normalization_11 (BatchN  (None, 56, 56, 128)  512        ['conv2d_8[0][0]']               \n",
      " ormalization)                                                                                    \n",
      "                                                                                                  \n"
     ]
    },
    {
     "name": "stdout",
     "output_type": "stream",
     "text": [
      " add_2 (Add)                    (None, 56, 56, 128)  0           ['batch_normalization_9[0][0]',  \n",
      "                                                                  'batch_normalization_11[0][0]'] \n",
      "                                                                                                  \n",
      " activation_2 (Activation)      (None, 56, 56, 128)  0           ['add_2[0][0]']                  \n",
      "                                                                                                  \n",
      " max_pooling2d_2 (MaxPooling2D)  (None, 28, 28, 128)  0          ['activation_2[0][0]']           \n",
      "                                                                                                  \n",
      " batch_normalization_12 (BatchN  (None, 28, 28, 128)  512        ['max_pooling2d_2[0][0]']        \n",
      " ormalization)                                                                                    \n",
      "                                                                                                  \n",
      " flatten (Flatten)              (None, 100352)       0           ['batch_normalization_12[0][0]'] \n",
      "                                                                                                  \n",
      " dense (Dense)                  (None, 128)          12845184    ['flatten[0][0]']                \n",
      "                                                                                                  \n",
      " dense_1 (Dense)                (None, 192)          24768       ['dense[0][0]']                  \n",
      "                                                                                                  \n",
      " dense_2 (Dense)                (None, 25)           4825        ['dense_1[0][0]']                \n",
      "                                                                                                  \n",
      "==================================================================================================\n",
      "Total params: 13,175,941\n",
      "Trainable params: 13,174,143\n",
      "Non-trainable params: 1,798\n",
      "__________________________________________________________________________________________________\n",
      "Epoch 1/25\n"
     ]
    },
    {
     "name": "stderr",
     "output_type": "stream",
     "text": [
      "2023-05-26 17:13:26.388087: I tensorflow/core/common_runtime/executor.cc:1197] [/device:CPU:0] (DEBUG INFO) Executor start aborting (this does not indicate an error and you can ignore this message): INVALID_ARGUMENT: You must feed a value for placeholder tensor 'Placeholder/_4' with dtype int32 and shape [20316]\n",
      "\t [[{{node Placeholder/_4}}]]\n",
      "2023-05-26 17:13:26.388333: I tensorflow/core/common_runtime/executor.cc:1197] [/device:CPU:0] (DEBUG INFO) Executor start aborting (this does not indicate an error and you can ignore this message): INVALID_ARGUMENT: You must feed a value for placeholder tensor 'Placeholder/_4' with dtype int32 and shape [20316]\n",
      "\t [[{{node Placeholder/_4}}]]\n",
      "2023-05-26 17:13:28.499157: I tensorflow/compiler/xla/stream_executor/cuda/cuda_dnn.cc:424] Loaded cuDNN version 8600\n",
      "2023-05-26 17:13:30.186947: I tensorflow/compiler/xla/service/service.cc:169] XLA service 0x7f12d0062ed0 initialized for platform CUDA (this does not guarantee that XLA will be used). Devices:\n",
      "2023-05-26 17:13:30.186970: I tensorflow/compiler/xla/service/service.cc:177]   StreamExecutor device (0): NVIDIA GeForce RTX 2060, Compute Capability 7.5\n",
      "2023-05-26 17:13:30.190002: I tensorflow/compiler/mlir/tensorflow/utils/dump_mlir_util.cc:269] disabling MLIR crash reproducer, set env var `MLIR_CRASH_REPRODUCER_DIRECTORY` to enable.\n",
      "2023-05-26 17:13:30.285810: I ./tensorflow/compiler/jit/device_compiler.h:180] Compiled cluster using XLA!  This line is logged at most once for the lifetime of the process.\n"
     ]
    },
    {
     "name": "stdout",
     "output_type": "stream",
     "text": [
      "635/635 [==============================] - ETA: 0s - loss: 3.2732 - accuracy: 0.2349"
     ]
    },
    {
     "name": "stderr",
     "output_type": "stream",
     "text": [
      "2023-05-26 17:15:21.509727: I tensorflow/core/common_runtime/executor.cc:1197] [/device:CPU:0] (DEBUG INFO) Executor start aborting (this does not indicate an error and you can ignore this message): INVALID_ARGUMENT: You must feed a value for placeholder tensor 'Placeholder/_4' with dtype int32 and shape [2257]\n",
      "\t [[{{node Placeholder/_4}}]]\n",
      "2023-05-26 17:15:21.509896: I tensorflow/core/common_runtime/executor.cc:1197] [/device:CPU:0] (DEBUG INFO) Executor start aborting (this does not indicate an error and you can ignore this message): INVALID_ARGUMENT: You must feed a value for placeholder tensor 'Placeholder/_4' with dtype int32 and shape [2257]\n",
      "\t [[{{node Placeholder/_4}}]]\n",
      "WARNING:absl:Found untraced functions such as _jit_compiled_convolution_op, _jit_compiled_convolution_op, _jit_compiled_convolution_op, _jit_compiled_convolution_op, _jit_compiled_convolution_op while saving (showing 5 of 9). These functions will not be directly callable after loading.\n"
     ]
    },
    {
     "name": "stdout",
     "output_type": "stream",
     "text": [
      "INFO:tensorflow:Assets written to: checkpoints/20230526-171326-0/assets\n"
     ]
    },
    {
     "name": "stderr",
     "output_type": "stream",
     "text": [
      "INFO:tensorflow:Assets written to: checkpoints/20230526-171326-0/assets\n"
     ]
    },
    {
     "name": "stdout",
     "output_type": "stream",
     "text": [
      "635/635 [==============================] - 122s 177ms/step - loss: 3.2732 - accuracy: 0.2349 - val_loss: 2.5848 - val_accuracy: 0.2991\n",
      "Epoch 2/25\n",
      "635/635 [==============================] - ETA: 0s - loss: 1.9425 - accuracy: 0.4069"
     ]
    },
    {
     "name": "stderr",
     "output_type": "stream",
     "text": [
      "WARNING:absl:Found untraced functions such as _jit_compiled_convolution_op, _jit_compiled_convolution_op, _jit_compiled_convolution_op, _jit_compiled_convolution_op, _jit_compiled_convolution_op while saving (showing 5 of 9). These functions will not be directly callable after loading.\n"
     ]
    },
    {
     "name": "stdout",
     "output_type": "stream",
     "text": [
      "INFO:tensorflow:Assets written to: checkpoints/20230526-171326-0/assets\n"
     ]
    },
    {
     "name": "stderr",
     "output_type": "stream",
     "text": [
      "INFO:tensorflow:Assets written to: checkpoints/20230526-171326-0/assets\n"
     ]
    },
    {
     "name": "stdout",
     "output_type": "stream",
     "text": [
      "635/635 [==============================] - 109s 171ms/step - loss: 1.9425 - accuracy: 0.4069 - val_loss: 2.0236 - val_accuracy: 0.4276\n",
      "Epoch 3/25\n",
      "635/635 [==============================] - ETA: 0s - loss: 1.4399 - accuracy: 0.5522"
     ]
    },
    {
     "name": "stderr",
     "output_type": "stream",
     "text": [
      "WARNING:absl:Found untraced functions such as _jit_compiled_convolution_op, _jit_compiled_convolution_op, _jit_compiled_convolution_op, _jit_compiled_convolution_op, _jit_compiled_convolution_op while saving (showing 5 of 9). These functions will not be directly callable after loading.\n"
     ]
    },
    {
     "name": "stdout",
     "output_type": "stream",
     "text": [
      "INFO:tensorflow:Assets written to: checkpoints/20230526-171326-0/assets\n"
     ]
    },
    {
     "name": "stderr",
     "output_type": "stream",
     "text": [
      "INFO:tensorflow:Assets written to: checkpoints/20230526-171326-0/assets\n"
     ]
    },
    {
     "name": "stdout",
     "output_type": "stream",
     "text": [
      "635/635 [==============================] - 109s 171ms/step - loss: 1.4399 - accuracy: 0.5522 - val_loss: 2.1941 - val_accuracy: 0.4728\n",
      " 1/79 [..............................] - ETA: 7s - loss: 2.2248 - accuracy: 0.5000"
     ]
    },
    {
     "name": "stderr",
     "output_type": "stream",
     "text": [
      "2023-05-26 17:19:06.378311: I tensorflow/core/common_runtime/executor.cc:1197] [/device:CPU:0] (DEBUG INFO) Executor start aborting (this does not indicate an error and you can ignore this message): INVALID_ARGUMENT: You must feed a value for placeholder tensor 'Placeholder/_4' with dtype int32 and shape [2500]\n",
      "\t [[{{node Placeholder/_4}}]]\n",
      "2023-05-26 17:19:06.378577: I tensorflow/core/common_runtime/executor.cc:1197] [/device:CPU:0] (DEBUG INFO) Executor start aborting (this does not indicate an error and you can ignore this message): INVALID_ARGUMENT: You must feed a value for placeholder tensor 'Placeholder/_0' with dtype string and shape [2500]\n",
      "\t [[{{node Placeholder/_0}}]]\n"
     ]
    },
    {
     "name": "stdout",
     "output_type": "stream",
     "text": [
      "79/79 [==============================] - 4s 50ms/step - loss: 2.4650 - accuracy: 0.4272\n",
      "Model: \"model_1\"\n",
      "__________________________________________________________________________________________________\n",
      " Layer (type)                   Output Shape         Param #     Connected to                     \n",
      "==================================================================================================\n",
      " input_2 (InputLayer)           [(None, 224, 224, 3  0           []                               \n",
      "                                )]                                                                \n",
      "                                                                                                  \n",
      " batch_normalization_13 (BatchN  (None, 224, 224, 3)  12         ['input_2[0][0]']                \n",
      " ormalization)                                                                                    \n",
      "                                                                                                  \n",
      " conv2d_10 (Conv2D)             (None, 224, 224, 32  896         ['batch_normalization_13[0][0]'] \n",
      "                                )                                                                 \n",
      "                                                                                                  \n",
      " batch_normalization_15 (BatchN  (None, 224, 224, 32  128        ['conv2d_10[0][0]']              \n",
      " ormalization)                  )                                                                 \n",
      "                                                                                                  \n",
      " conv2d_9 (Conv2D)              (None, 224, 224, 32  128         ['batch_normalization_13[0][0]'] \n",
      "                                )                                                                 \n",
      "                                                                                                  \n",
      " conv2d_11 (Conv2D)             (None, 224, 224, 32  9248        ['batch_normalization_15[0][0]'] \n",
      "                                )                                                                 \n",
      "                                                                                                  \n",
      " batch_normalization_14 (BatchN  (None, 224, 224, 32  128        ['conv2d_9[0][0]']               \n",
      " ormalization)                  )                                                                 \n",
      "                                                                                                  \n",
      " batch_normalization_16 (BatchN  (None, 224, 224, 32  128        ['conv2d_11[0][0]']              \n",
      " ormalization)                  )                                                                 \n",
      "                                                                                                  \n",
      " add_3 (Add)                    (None, 224, 224, 32  0           ['batch_normalization_14[0][0]', \n",
      "                                )                                 'batch_normalization_16[0][0]'] \n",
      "                                                                                                  \n",
      " activation_3 (Activation)      (None, 224, 224, 32  0           ['add_3[0][0]']                  \n",
      "                                )                                                                 \n",
      "                                                                                                  \n",
      " max_pooling2d_3 (MaxPooling2D)  (None, 112, 112, 32  0          ['activation_3[0][0]']           \n",
      "                                )                                                                 \n",
      "                                                                                                  \n",
      " batch_normalization_17 (BatchN  (None, 112, 112, 32  128        ['max_pooling2d_3[0][0]']        \n",
      " ormalization)                  )                                                                 \n",
      "                                                                                                  \n",
      " conv2d_13 (Conv2D)             (None, 112, 112, 64  18496       ['batch_normalization_17[0][0]'] \n",
      "                                )                                                                 \n",
      "                                                                                                  \n",
      " batch_normalization_19 (BatchN  (None, 112, 112, 64  256        ['conv2d_13[0][0]']              \n",
      " ormalization)                  )                                                                 \n",
      "                                                                                                  \n",
      " conv2d_12 (Conv2D)             (None, 112, 112, 64  2112        ['batch_normalization_17[0][0]'] \n",
      "                                )                                                                 \n",
      "                                                                                                  \n",
      " conv2d_14 (Conv2D)             (None, 112, 112, 64  36928       ['batch_normalization_19[0][0]'] \n",
      "                                )                                                                 \n",
      "                                                                                                  \n",
      " batch_normalization_18 (BatchN  (None, 112, 112, 64  256        ['conv2d_12[0][0]']              \n",
      " ormalization)                  )                                                                 \n",
      "                                                                                                  \n",
      " batch_normalization_20 (BatchN  (None, 112, 112, 64  256        ['conv2d_14[0][0]']              \n",
      " ormalization)                  )                                                                 \n",
      "                                                                                                  \n",
      " add_4 (Add)                    (None, 112, 112, 64  0           ['batch_normalization_18[0][0]', \n",
      "                                )                                 'batch_normalization_20[0][0]'] \n",
      "                                                                                                  \n",
      " activation_4 (Activation)      (None, 112, 112, 64  0           ['add_4[0][0]']                  \n",
      "                                )                                                                 \n",
      "                                                                                                  \n",
      " max_pooling2d_4 (MaxPooling2D)  (None, 56, 56, 64)  0           ['activation_4[0][0]']           \n",
      "                                                                                                  \n",
      " batch_normalization_21 (BatchN  (None, 56, 56, 64)  256         ['max_pooling2d_4[0][0]']        \n",
      " ormalization)                                                                                    \n",
      "                                                                                                  \n",
      " conv2d_16 (Conv2D)             (None, 56, 56, 128)  73856       ['batch_normalization_21[0][0]'] \n",
      "                                                                                                  \n",
      " batch_normalization_23 (BatchN  (None, 56, 56, 128)  512        ['conv2d_16[0][0]']              \n",
      " ormalization)                                                                                    \n",
      "                                                                                                  \n",
      " conv2d_15 (Conv2D)             (None, 56, 56, 128)  8320        ['batch_normalization_21[0][0]'] \n",
      "                                                                                                  \n",
      " conv2d_17 (Conv2D)             (None, 56, 56, 128)  147584      ['batch_normalization_23[0][0]'] \n",
      "                                                                                                  \n",
      " batch_normalization_22 (BatchN  (None, 56, 56, 128)  512        ['conv2d_15[0][0]']              \n",
      " ormalization)                                                                                    \n",
      "                                                                                                  \n",
      " batch_normalization_24 (BatchN  (None, 56, 56, 128)  512        ['conv2d_17[0][0]']              \n",
      " ormalization)                                                                                    \n"
     ]
    },
    {
     "name": "stdout",
     "output_type": "stream",
     "text": [
      "                                                                                                  \n",
      " add_5 (Add)                    (None, 56, 56, 128)  0           ['batch_normalization_22[0][0]', \n",
      "                                                                  'batch_normalization_24[0][0]'] \n",
      "                                                                                                  \n",
      " activation_5 (Activation)      (None, 56, 56, 128)  0           ['add_5[0][0]']                  \n",
      "                                                                                                  \n",
      " max_pooling2d_5 (MaxPooling2D)  (None, 28, 28, 128)  0          ['activation_5[0][0]']           \n",
      "                                                                                                  \n",
      " batch_normalization_25 (BatchN  (None, 28, 28, 128)  512        ['max_pooling2d_5[0][0]']        \n",
      " ormalization)                                                                                    \n",
      "                                                                                                  \n",
      " flatten_1 (Flatten)            (None, 100352)       0           ['batch_normalization_25[0][0]'] \n",
      "                                                                                                  \n",
      " dense_3 (Dense)                (None, 128)          12845184    ['flatten_1[0][0]']              \n",
      "                                                                                                  \n",
      " dense_4 (Dense)                (None, 192)          24768       ['dense_3[0][0]']                \n",
      "                                                                                                  \n",
      " dense_5 (Dense)                (None, 25)           4825        ['dense_4[0][0]']                \n",
      "                                                                                                  \n",
      "==================================================================================================\n",
      "Total params: 13,175,941\n",
      "Trainable params: 13,174,143\n",
      "Non-trainable params: 1,798\n",
      "__________________________________________________________________________________________________\n",
      "Epoch 1/25\n",
      "635/635 [==============================] - ETA: 0s - loss: 3.2790 - accuracy: 0.2089"
     ]
    },
    {
     "name": "stderr",
     "output_type": "stream",
     "text": [
      "WARNING:absl:Found untraced functions such as _jit_compiled_convolution_op, _jit_compiled_convolution_op, _jit_compiled_convolution_op, _jit_compiled_convolution_op, _jit_compiled_convolution_op while saving (showing 5 of 9). These functions will not be directly callable after loading.\n"
     ]
    },
    {
     "name": "stdout",
     "output_type": "stream",
     "text": [
      "INFO:tensorflow:Assets written to: checkpoints/20230526-171326-1/assets\n"
     ]
    },
    {
     "name": "stderr",
     "output_type": "stream",
     "text": [
      "INFO:tensorflow:Assets written to: checkpoints/20230526-171326-1/assets\n"
     ]
    },
    {
     "name": "stdout",
     "output_type": "stream",
     "text": [
      "635/635 [==============================] - 113s 171ms/step - loss: 3.2790 - accuracy: 0.2089 - val_loss: 2.3214 - val_accuracy: 0.2960\n",
      "Epoch 2/25\n",
      "635/635 [==============================] - ETA: 0s - loss: 2.0845 - accuracy: 0.3656"
     ]
    },
    {
     "name": "stderr",
     "output_type": "stream",
     "text": [
      "WARNING:absl:Found untraced functions such as _jit_compiled_convolution_op, _jit_compiled_convolution_op, _jit_compiled_convolution_op, _jit_compiled_convolution_op, _jit_compiled_convolution_op while saving (showing 5 of 9). These functions will not be directly callable after loading.\n"
     ]
    },
    {
     "name": "stdout",
     "output_type": "stream",
     "text": [
      "INFO:tensorflow:Assets written to: checkpoints/20230526-171326-1/assets\n"
     ]
    },
    {
     "name": "stderr",
     "output_type": "stream",
     "text": [
      "INFO:tensorflow:Assets written to: checkpoints/20230526-171326-1/assets\n"
     ]
    },
    {
     "name": "stdout",
     "output_type": "stream",
     "text": [
      "635/635 [==============================] - 109s 172ms/step - loss: 2.0845 - accuracy: 0.3656 - val_loss: 2.1713 - val_accuracy: 0.3797\n",
      "Epoch 3/25\n",
      "635/635 [==============================] - ETA: 0s - loss: 1.6310 - accuracy: 0.4917"
     ]
    },
    {
     "name": "stderr",
     "output_type": "stream",
     "text": [
      "WARNING:absl:Found untraced functions such as _jit_compiled_convolution_op, _jit_compiled_convolution_op, _jit_compiled_convolution_op, _jit_compiled_convolution_op, _jit_compiled_convolution_op while saving (showing 5 of 9). These functions will not be directly callable after loading.\n"
     ]
    },
    {
     "name": "stdout",
     "output_type": "stream",
     "text": [
      "INFO:tensorflow:Assets written to: checkpoints/20230526-171326-1/assets\n"
     ]
    },
    {
     "name": "stderr",
     "output_type": "stream",
     "text": [
      "INFO:tensorflow:Assets written to: checkpoints/20230526-171326-1/assets\n"
     ]
    },
    {
     "name": "stdout",
     "output_type": "stream",
     "text": [
      "635/635 [==============================] - 109s 172ms/step - loss: 1.6310 - accuracy: 0.4917 - val_loss: 1.8994 - val_accuracy: 0.4692\n",
      "Epoch 4/25\n",
      "635/635 [==============================] - ETA: 0s - loss: 1.2550 - accuracy: 0.6033"
     ]
    },
    {
     "name": "stderr",
     "output_type": "stream",
     "text": [
      "WARNING:absl:Found untraced functions such as _jit_compiled_convolution_op, _jit_compiled_convolution_op, _jit_compiled_convolution_op, _jit_compiled_convolution_op, _jit_compiled_convolution_op while saving (showing 5 of 9). These functions will not be directly callable after loading.\n"
     ]
    },
    {
     "name": "stdout",
     "output_type": "stream",
     "text": [
      "INFO:tensorflow:Assets written to: checkpoints/20230526-171326-1/assets\n"
     ]
    },
    {
     "name": "stderr",
     "output_type": "stream",
     "text": [
      "INFO:tensorflow:Assets written to: checkpoints/20230526-171326-1/assets\n"
     ]
    },
    {
     "name": "stdout",
     "output_type": "stream",
     "text": [
      "635/635 [==============================] - 109s 172ms/step - loss: 1.2550 - accuracy: 0.6033 - val_loss: 1.9535 - val_accuracy: 0.4621\n",
      "79/79 [==============================] - 4s 45ms/step - loss: 2.1442 - accuracy: 0.4488\n",
      "Model: \"model_2\"\n",
      "__________________________________________________________________________________________________\n",
      " Layer (type)                   Output Shape         Param #     Connected to                     \n",
      "==================================================================================================\n",
      " input_3 (InputLayer)           [(None, 224, 224, 3  0           []                               \n",
      "                                )]                                                                \n",
      "                                                                                                  \n",
      " batch_normalization_26 (BatchN  (None, 224, 224, 3)  12         ['input_3[0][0]']                \n",
      " ormalization)                                                                                    \n",
      "                                                                                                  \n",
      " conv2d_19 (Conv2D)             (None, 224, 224, 32  896         ['batch_normalization_26[0][0]'] \n",
      "                                )                                                                 \n",
      "                                                                                                  \n",
      " batch_normalization_28 (BatchN  (None, 224, 224, 32  128        ['conv2d_19[0][0]']              \n",
      " ormalization)                  )                                                                 \n",
      "                                                                                                  \n",
      " conv2d_18 (Conv2D)             (None, 224, 224, 32  128         ['batch_normalization_26[0][0]'] \n",
      "                                )                                                                 \n",
      "                                                                                                  \n",
      " conv2d_20 (Conv2D)             (None, 224, 224, 32  9248        ['batch_normalization_28[0][0]'] \n",
      "                                )                                                                 \n",
      "                                                                                                  \n",
      " batch_normalization_27 (BatchN  (None, 224, 224, 32  128        ['conv2d_18[0][0]']              \n",
      " ormalization)                  )                                                                 \n",
      "                                                                                                  \n",
      " batch_normalization_29 (BatchN  (None, 224, 224, 32  128        ['conv2d_20[0][0]']              \n",
      " ormalization)                  )                                                                 \n",
      "                                                                                                  \n",
      " add_6 (Add)                    (None, 224, 224, 32  0           ['batch_normalization_27[0][0]', \n",
      "                                )                                 'batch_normalization_29[0][0]'] \n",
      "                                                                                                  \n",
      " activation_6 (Activation)      (None, 224, 224, 32  0           ['add_6[0][0]']                  \n",
      "                                )                                                                 \n",
      "                                                                                                  \n",
      " max_pooling2d_6 (MaxPooling2D)  (None, 112, 112, 32  0          ['activation_6[0][0]']           \n",
      "                                )                                                                 \n",
      "                                                                                                  \n",
      " batch_normalization_30 (BatchN  (None, 112, 112, 32  128        ['max_pooling2d_6[0][0]']        \n",
      " ormalization)                  )                                                                 \n",
      "                                                                                                  \n",
      " conv2d_22 (Conv2D)             (None, 112, 112, 64  18496       ['batch_normalization_30[0][0]'] \n",
      "                                )                                                                 \n",
      "                                                                                                  \n",
      " batch_normalization_32 (BatchN  (None, 112, 112, 64  256        ['conv2d_22[0][0]']              \n",
      " ormalization)                  )                                                                 \n",
      "                                                                                                  \n",
      " conv2d_21 (Conv2D)             (None, 112, 112, 64  2112        ['batch_normalization_30[0][0]'] \n",
      "                                )                                                                 \n",
      "                                                                                                  \n",
      " conv2d_23 (Conv2D)             (None, 112, 112, 64  36928       ['batch_normalization_32[0][0]'] \n",
      "                                )                                                                 \n",
      "                                                                                                  \n",
      " batch_normalization_31 (BatchN  (None, 112, 112, 64  256        ['conv2d_21[0][0]']              \n",
      " ormalization)                  )                                                                 \n",
      "                                                                                                  \n",
      " batch_normalization_33 (BatchN  (None, 112, 112, 64  256        ['conv2d_23[0][0]']              \n",
      " ormalization)                  )                                                                 \n",
      "                                                                                                  \n",
      " add_7 (Add)                    (None, 112, 112, 64  0           ['batch_normalization_31[0][0]', \n",
      "                                )                                 'batch_normalization_33[0][0]'] \n",
      "                                                                                                  \n",
      " activation_7 (Activation)      (None, 112, 112, 64  0           ['add_7[0][0]']                  \n",
      "                                )                                                                 \n",
      "                                                                                                  \n",
      " max_pooling2d_7 (MaxPooling2D)  (None, 56, 56, 64)  0           ['activation_7[0][0]']           \n",
      "                                                                                                  \n",
      " batch_normalization_34 (BatchN  (None, 56, 56, 64)  256         ['max_pooling2d_7[0][0]']        \n",
      " ormalization)                                                                                    \n",
      "                                                                                                  \n",
      " conv2d_25 (Conv2D)             (None, 56, 56, 128)  73856       ['batch_normalization_34[0][0]'] \n",
      "                                                                                                  \n",
      " batch_normalization_36 (BatchN  (None, 56, 56, 128)  512        ['conv2d_25[0][0]']              \n",
      " ormalization)                                                                                    \n",
      "                                                                                                  \n",
      " conv2d_24 (Conv2D)             (None, 56, 56, 128)  8320        ['batch_normalization_34[0][0]'] \n",
      "                                                                                                  \n",
      " conv2d_26 (Conv2D)             (None, 56, 56, 128)  147584      ['batch_normalization_36[0][0]'] \n",
      "                                                                                                  \n",
      " batch_normalization_35 (BatchN  (None, 56, 56, 128)  512        ['conv2d_24[0][0]']              \n",
      " ormalization)                                                                                    \n",
      "                                                                                                  \n",
      " batch_normalization_37 (BatchN  (None, 56, 56, 128)  512        ['conv2d_26[0][0]']              \n"
     ]
    },
    {
     "name": "stdout",
     "output_type": "stream",
     "text": [
      " ormalization)                                                                                    \n",
      "                                                                                                  \n",
      " add_8 (Add)                    (None, 56, 56, 128)  0           ['batch_normalization_35[0][0]', \n",
      "                                                                  'batch_normalization_37[0][0]'] \n",
      "                                                                                                  \n",
      " activation_8 (Activation)      (None, 56, 56, 128)  0           ['add_8[0][0]']                  \n",
      "                                                                                                  \n",
      " max_pooling2d_8 (MaxPooling2D)  (None, 28, 28, 128)  0          ['activation_8[0][0]']           \n",
      "                                                                                                  \n",
      " batch_normalization_38 (BatchN  (None, 28, 28, 128)  512        ['max_pooling2d_8[0][0]']        \n",
      " ormalization)                                                                                    \n",
      "                                                                                                  \n",
      " flatten_2 (Flatten)            (None, 100352)       0           ['batch_normalization_38[0][0]'] \n",
      "                                                                                                  \n",
      " dense_6 (Dense)                (None, 128)          12845184    ['flatten_2[0][0]']              \n",
      "                                                                                                  \n",
      " dense_7 (Dense)                (None, 192)          24768       ['dense_6[0][0]']                \n",
      "                                                                                                  \n",
      " dense_8 (Dense)                (None, 25)           4825        ['dense_7[0][0]']                \n",
      "                                                                                                  \n",
      "==================================================================================================\n",
      "Total params: 13,175,941\n",
      "Trainable params: 13,174,143\n",
      "Non-trainable params: 1,798\n",
      "__________________________________________________________________________________________________\n",
      "Epoch 1/25\n",
      "635/635 [==============================] - ETA: 0s - loss: 3.5255 - accuracy: 0.2305"
     ]
    },
    {
     "name": "stderr",
     "output_type": "stream",
     "text": [
      "WARNING:absl:Found untraced functions such as _jit_compiled_convolution_op, _jit_compiled_convolution_op, _jit_compiled_convolution_op, _jit_compiled_convolution_op, _jit_compiled_convolution_op while saving (showing 5 of 9). These functions will not be directly callable after loading.\n"
     ]
    },
    {
     "name": "stdout",
     "output_type": "stream",
     "text": [
      "INFO:tensorflow:Assets written to: checkpoints/20230526-171326-2/assets\n"
     ]
    },
    {
     "name": "stderr",
     "output_type": "stream",
     "text": [
      "INFO:tensorflow:Assets written to: checkpoints/20230526-171326-2/assets\n"
     ]
    },
    {
     "name": "stdout",
     "output_type": "stream",
     "text": [
      "635/635 [==============================] - 114s 172ms/step - loss: 3.5255 - accuracy: 0.2305 - val_loss: 2.3996 - val_accuracy: 0.3177\n",
      "Epoch 2/25\n",
      "635/635 [==============================] - ETA: 0s - loss: 1.9647 - accuracy: 0.4042"
     ]
    },
    {
     "name": "stderr",
     "output_type": "stream",
     "text": [
      "WARNING:absl:Found untraced functions such as _jit_compiled_convolution_op, _jit_compiled_convolution_op, _jit_compiled_convolution_op, _jit_compiled_convolution_op, _jit_compiled_convolution_op while saving (showing 5 of 9). These functions will not be directly callable after loading.\n"
     ]
    },
    {
     "name": "stdout",
     "output_type": "stream",
     "text": [
      "INFO:tensorflow:Assets written to: checkpoints/20230526-171326-2/assets\n"
     ]
    },
    {
     "name": "stderr",
     "output_type": "stream",
     "text": [
      "INFO:tensorflow:Assets written to: checkpoints/20230526-171326-2/assets\n"
     ]
    },
    {
     "name": "stdout",
     "output_type": "stream",
     "text": [
      "635/635 [==============================] - 109s 172ms/step - loss: 1.9647 - accuracy: 0.4042 - val_loss: 1.9570 - val_accuracy: 0.4200\n",
      "Epoch 3/25\n",
      "635/635 [==============================] - ETA: 0s - loss: 1.4752 - accuracy: 0.5424"
     ]
    },
    {
     "name": "stderr",
     "output_type": "stream",
     "text": [
      "WARNING:absl:Found untraced functions such as _jit_compiled_convolution_op, _jit_compiled_convolution_op, _jit_compiled_convolution_op, _jit_compiled_convolution_op, _jit_compiled_convolution_op while saving (showing 5 of 9). These functions will not be directly callable after loading.\n"
     ]
    },
    {
     "name": "stdout",
     "output_type": "stream",
     "text": [
      "INFO:tensorflow:Assets written to: checkpoints/20230526-171326-2/assets\n"
     ]
    },
    {
     "name": "stderr",
     "output_type": "stream",
     "text": [
      "INFO:tensorflow:Assets written to: checkpoints/20230526-171326-2/assets\n"
     ]
    },
    {
     "name": "stdout",
     "output_type": "stream",
     "text": [
      "635/635 [==============================] - 109s 172ms/step - loss: 1.4752 - accuracy: 0.5424 - val_loss: 1.8512 - val_accuracy: 0.4829\n",
      "Epoch 4/25\n",
      "635/635 [==============================] - ETA: 0s - loss: 1.0760 - accuracy: 0.6601"
     ]
    },
    {
     "name": "stderr",
     "output_type": "stream",
     "text": [
      "WARNING:absl:Found untraced functions such as _jit_compiled_convolution_op, _jit_compiled_convolution_op, _jit_compiled_convolution_op, _jit_compiled_convolution_op, _jit_compiled_convolution_op while saving (showing 5 of 9). These functions will not be directly callable after loading.\n"
     ]
    },
    {
     "name": "stdout",
     "output_type": "stream",
     "text": [
      "INFO:tensorflow:Assets written to: checkpoints/20230526-171326-2/assets\n"
     ]
    },
    {
     "name": "stderr",
     "output_type": "stream",
     "text": [
      "INFO:tensorflow:Assets written to: checkpoints/20230526-171326-2/assets\n"
     ]
    },
    {
     "name": "stdout",
     "output_type": "stream",
     "text": [
      "635/635 [==============================] - 109s 172ms/step - loss: 1.0760 - accuracy: 0.6601 - val_loss: 1.7990 - val_accuracy: 0.5184\n",
      "Epoch 5/25\n",
      "635/635 [==============================] - ETA: 0s - loss: 0.7953 - accuracy: 0.7502"
     ]
    },
    {
     "name": "stderr",
     "output_type": "stream",
     "text": [
      "WARNING:absl:Found untraced functions such as _jit_compiled_convolution_op, _jit_compiled_convolution_op, _jit_compiled_convolution_op, _jit_compiled_convolution_op, _jit_compiled_convolution_op while saving (showing 5 of 9). These functions will not be directly callable after loading.\n"
     ]
    },
    {
     "name": "stdout",
     "output_type": "stream",
     "text": [
      "INFO:tensorflow:Assets written to: checkpoints/20230526-171326-2/assets\n"
     ]
    },
    {
     "name": "stderr",
     "output_type": "stream",
     "text": [
      "INFO:tensorflow:Assets written to: checkpoints/20230526-171326-2/assets\n"
     ]
    },
    {
     "name": "stdout",
     "output_type": "stream",
     "text": [
      "635/635 [==============================] - 109s 172ms/step - loss: 0.7953 - accuracy: 0.7502 - val_loss: 1.8296 - val_accuracy: 0.5321\n",
      "79/79 [==============================] - 4s 46ms/step - loss: 2.0394 - accuracy: 0.5104\n",
      "Model: \"model_3\"\n",
      "__________________________________________________________________________________________________\n",
      " Layer (type)                   Output Shape         Param #     Connected to                     \n",
      "==================================================================================================\n",
      " input_4 (InputLayer)           [(None, 224, 224, 3  0           []                               \n",
      "                                )]                                                                \n",
      "                                                                                                  \n",
      " batch_normalization_39 (BatchN  (None, 224, 224, 3)  12         ['input_4[0][0]']                \n",
      " ormalization)                                                                                    \n",
      "                                                                                                  \n",
      " conv2d_28 (Conv2D)             (None, 224, 224, 32  896         ['batch_normalization_39[0][0]'] \n",
      "                                )                                                                 \n",
      "                                                                                                  \n",
      " batch_normalization_41 (BatchN  (None, 224, 224, 32  128        ['conv2d_28[0][0]']              \n",
      " ormalization)                  )                                                                 \n",
      "                                                                                                  \n",
      " conv2d_27 (Conv2D)             (None, 224, 224, 32  128         ['batch_normalization_39[0][0]'] \n",
      "                                )                                                                 \n",
      "                                                                                                  \n",
      " conv2d_29 (Conv2D)             (None, 224, 224, 32  9248        ['batch_normalization_41[0][0]'] \n",
      "                                )                                                                 \n",
      "                                                                                                  \n",
      " batch_normalization_40 (BatchN  (None, 224, 224, 32  128        ['conv2d_27[0][0]']              \n",
      " ormalization)                  )                                                                 \n",
      "                                                                                                  \n",
      " batch_normalization_42 (BatchN  (None, 224, 224, 32  128        ['conv2d_29[0][0]']              \n",
      " ormalization)                  )                                                                 \n",
      "                                                                                                  \n",
      " add_9 (Add)                    (None, 224, 224, 32  0           ['batch_normalization_40[0][0]', \n",
      "                                )                                 'batch_normalization_42[0][0]'] \n",
      "                                                                                                  \n",
      " activation_9 (Activation)      (None, 224, 224, 32  0           ['add_9[0][0]']                  \n",
      "                                )                                                                 \n",
      "                                                                                                  \n",
      " max_pooling2d_9 (MaxPooling2D)  (None, 112, 112, 32  0          ['activation_9[0][0]']           \n",
      "                                )                                                                 \n",
      "                                                                                                  \n",
      " batch_normalization_43 (BatchN  (None, 112, 112, 32  128        ['max_pooling2d_9[0][0]']        \n",
      " ormalization)                  )                                                                 \n",
      "                                                                                                  \n",
      " conv2d_31 (Conv2D)             (None, 112, 112, 64  18496       ['batch_normalization_43[0][0]'] \n",
      "                                )                                                                 \n",
      "                                                                                                  \n",
      " batch_normalization_45 (BatchN  (None, 112, 112, 64  256        ['conv2d_31[0][0]']              \n",
      " ormalization)                  )                                                                 \n",
      "                                                                                                  \n",
      " conv2d_30 (Conv2D)             (None, 112, 112, 64  2112        ['batch_normalization_43[0][0]'] \n",
      "                                )                                                                 \n",
      "                                                                                                  \n",
      " conv2d_32 (Conv2D)             (None, 112, 112, 64  36928       ['batch_normalization_45[0][0]'] \n",
      "                                )                                                                 \n",
      "                                                                                                  \n",
      " batch_normalization_44 (BatchN  (None, 112, 112, 64  256        ['conv2d_30[0][0]']              \n",
      " ormalization)                  )                                                                 \n",
      "                                                                                                  \n",
      " batch_normalization_46 (BatchN  (None, 112, 112, 64  256        ['conv2d_32[0][0]']              \n",
      " ormalization)                  )                                                                 \n",
      "                                                                                                  \n",
      " add_10 (Add)                   (None, 112, 112, 64  0           ['batch_normalization_44[0][0]', \n",
      "                                )                                 'batch_normalization_46[0][0]'] \n",
      "                                                                                                  \n",
      " activation_10 (Activation)     (None, 112, 112, 64  0           ['add_10[0][0]']                 \n",
      "                                )                                                                 \n",
      "                                                                                                  \n",
      " max_pooling2d_10 (MaxPooling2D  (None, 56, 56, 64)  0           ['activation_10[0][0]']          \n",
      " )                                                                                                \n",
      "                                                                                                  \n",
      " batch_normalization_47 (BatchN  (None, 56, 56, 64)  256         ['max_pooling2d_10[0][0]']       \n",
      " ormalization)                                                                                    \n",
      "                                                                                                  \n",
      " conv2d_34 (Conv2D)             (None, 56, 56, 128)  73856       ['batch_normalization_47[0][0]'] \n",
      "                                                                                                  \n",
      " batch_normalization_49 (BatchN  (None, 56, 56, 128)  512        ['conv2d_34[0][0]']              \n",
      " ormalization)                                                                                    \n",
      "                                                                                                  \n",
      " conv2d_33 (Conv2D)             (None, 56, 56, 128)  8320        ['batch_normalization_47[0][0]'] \n",
      "                                                                                                  \n",
      " conv2d_35 (Conv2D)             (None, 56, 56, 128)  147584      ['batch_normalization_49[0][0]'] \n",
      "                                                                                                  \n",
      " batch_normalization_48 (BatchN  (None, 56, 56, 128)  512        ['conv2d_33[0][0]']              \n",
      " ormalization)                                                                                    \n",
      "                                                                                                  \n"
     ]
    },
    {
     "name": "stdout",
     "output_type": "stream",
     "text": [
      " batch_normalization_50 (BatchN  (None, 56, 56, 128)  512        ['conv2d_35[0][0]']              \n",
      " ormalization)                                                                                    \n",
      "                                                                                                  \n",
      " add_11 (Add)                   (None, 56, 56, 128)  0           ['batch_normalization_48[0][0]', \n",
      "                                                                  'batch_normalization_50[0][0]'] \n",
      "                                                                                                  \n",
      " activation_11 (Activation)     (None, 56, 56, 128)  0           ['add_11[0][0]']                 \n",
      "                                                                                                  \n",
      " max_pooling2d_11 (MaxPooling2D  (None, 28, 28, 128)  0          ['activation_11[0][0]']          \n",
      " )                                                                                                \n",
      "                                                                                                  \n",
      " batch_normalization_51 (BatchN  (None, 28, 28, 128)  512        ['max_pooling2d_11[0][0]']       \n",
      " ormalization)                                                                                    \n",
      "                                                                                                  \n",
      " flatten_3 (Flatten)            (None, 100352)       0           ['batch_normalization_51[0][0]'] \n",
      "                                                                                                  \n",
      " dense_9 (Dense)                (None, 128)          12845184    ['flatten_3[0][0]']              \n",
      "                                                                                                  \n",
      " dense_10 (Dense)               (None, 192)          24768       ['dense_9[0][0]']                \n",
      "                                                                                                  \n",
      " dense_11 (Dense)               (None, 25)           4825        ['dense_10[0][0]']               \n",
      "                                                                                                  \n",
      "==================================================================================================\n",
      "Total params: 13,175,941\n",
      "Trainable params: 13,174,143\n",
      "Non-trainable params: 1,798\n",
      "__________________________________________________________________________________________________\n",
      "Epoch 1/25\n",
      "635/635 [==============================] - ETA: 0s - loss: 3.1730 - accuracy: 0.1812"
     ]
    },
    {
     "name": "stderr",
     "output_type": "stream",
     "text": [
      "WARNING:absl:Found untraced functions such as _jit_compiled_convolution_op, _jit_compiled_convolution_op, _jit_compiled_convolution_op, _jit_compiled_convolution_op, _jit_compiled_convolution_op while saving (showing 5 of 9). These functions will not be directly callable after loading.\n"
     ]
    },
    {
     "name": "stdout",
     "output_type": "stream",
     "text": [
      "INFO:tensorflow:Assets written to: checkpoints/20230526-171326-3/assets\n"
     ]
    },
    {
     "name": "stderr",
     "output_type": "stream",
     "text": [
      "INFO:tensorflow:Assets written to: checkpoints/20230526-171326-3/assets\n"
     ]
    },
    {
     "name": "stdout",
     "output_type": "stream",
     "text": [
      "635/635 [==============================] - 114s 171ms/step - loss: 3.1730 - accuracy: 0.1812 - val_loss: 2.4536 - val_accuracy: 0.2743\n",
      "Epoch 2/25\n",
      "635/635 [==============================] - ETA: 0s - loss: 2.2605 - accuracy: 0.3071"
     ]
    },
    {
     "name": "stderr",
     "output_type": "stream",
     "text": [
      "WARNING:absl:Found untraced functions such as _jit_compiled_convolution_op, _jit_compiled_convolution_op, _jit_compiled_convolution_op, _jit_compiled_convolution_op, _jit_compiled_convolution_op while saving (showing 5 of 9). These functions will not be directly callable after loading.\n"
     ]
    },
    {
     "name": "stdout",
     "output_type": "stream",
     "text": [
      "INFO:tensorflow:Assets written to: checkpoints/20230526-171326-3/assets\n"
     ]
    },
    {
     "name": "stderr",
     "output_type": "stream",
     "text": [
      "INFO:tensorflow:Assets written to: checkpoints/20230526-171326-3/assets\n"
     ]
    },
    {
     "name": "stdout",
     "output_type": "stream",
     "text": [
      "635/635 [==============================] - 109s 171ms/step - loss: 2.2605 - accuracy: 0.3071 - val_loss: 2.3826 - val_accuracy: 0.3332\n",
      "Epoch 3/25\n",
      "635/635 [==============================] - ETA: 0s - loss: 1.8715 - accuracy: 0.4142"
     ]
    },
    {
     "name": "stderr",
     "output_type": "stream",
     "text": [
      "WARNING:absl:Found untraced functions such as _jit_compiled_convolution_op, _jit_compiled_convolution_op, _jit_compiled_convolution_op, _jit_compiled_convolution_op, _jit_compiled_convolution_op while saving (showing 5 of 9). These functions will not be directly callable after loading.\n"
     ]
    },
    {
     "name": "stdout",
     "output_type": "stream",
     "text": [
      "INFO:tensorflow:Assets written to: checkpoints/20230526-171326-3/assets\n"
     ]
    },
    {
     "name": "stderr",
     "output_type": "stream",
     "text": [
      "INFO:tensorflow:Assets written to: checkpoints/20230526-171326-3/assets\n"
     ]
    },
    {
     "name": "stdout",
     "output_type": "stream",
     "text": [
      "635/635 [==============================] - 109s 171ms/step - loss: 1.8715 - accuracy: 0.4142 - val_loss: 2.0485 - val_accuracy: 0.3979\n",
      "Epoch 4/25\n",
      "635/635 [==============================] - ETA: 0s - loss: 1.5328 - accuracy: 0.5159"
     ]
    },
    {
     "name": "stderr",
     "output_type": "stream",
     "text": [
      "WARNING:absl:Found untraced functions such as _jit_compiled_convolution_op, _jit_compiled_convolution_op, _jit_compiled_convolution_op, _jit_compiled_convolution_op, _jit_compiled_convolution_op while saving (showing 5 of 9). These functions will not be directly callable after loading.\n"
     ]
    },
    {
     "name": "stdout",
     "output_type": "stream",
     "text": [
      "INFO:tensorflow:Assets written to: checkpoints/20230526-171326-3/assets\n"
     ]
    },
    {
     "name": "stderr",
     "output_type": "stream",
     "text": [
      "INFO:tensorflow:Assets written to: checkpoints/20230526-171326-3/assets\n"
     ]
    },
    {
     "name": "stdout",
     "output_type": "stream",
     "text": [
      "635/635 [==============================] - 109s 171ms/step - loss: 1.5328 - accuracy: 0.5159 - val_loss: 1.9195 - val_accuracy: 0.4338\n",
      "Epoch 5/25\n",
      "635/635 [==============================] - ETA: 0s - loss: 1.2376 - accuracy: 0.6047"
     ]
    },
    {
     "name": "stderr",
     "output_type": "stream",
     "text": [
      "WARNING:absl:Found untraced functions such as _jit_compiled_convolution_op, _jit_compiled_convolution_op, _jit_compiled_convolution_op, _jit_compiled_convolution_op, _jit_compiled_convolution_op while saving (showing 5 of 9). These functions will not be directly callable after loading.\n"
     ]
    },
    {
     "name": "stdout",
     "output_type": "stream",
     "text": [
      "INFO:tensorflow:Assets written to: checkpoints/20230526-171326-3/assets\n"
     ]
    },
    {
     "name": "stderr",
     "output_type": "stream",
     "text": [
      "INFO:tensorflow:Assets written to: checkpoints/20230526-171326-3/assets\n"
     ]
    },
    {
     "name": "stdout",
     "output_type": "stream",
     "text": [
      "635/635 [==============================] - 109s 172ms/step - loss: 1.2376 - accuracy: 0.6047 - val_loss: 1.9003 - val_accuracy: 0.4816\n",
      "Epoch 6/25\n",
      "635/635 [==============================] - ETA: 0s - loss: 0.9911 - accuracy: 0.6850"
     ]
    },
    {
     "name": "stderr",
     "output_type": "stream",
     "text": [
      "WARNING:absl:Found untraced functions such as _jit_compiled_convolution_op, _jit_compiled_convolution_op, _jit_compiled_convolution_op, _jit_compiled_convolution_op, _jit_compiled_convolution_op while saving (showing 5 of 9). These functions will not be directly callable after loading.\n"
     ]
    },
    {
     "name": "stdout",
     "output_type": "stream",
     "text": [
      "INFO:tensorflow:Assets written to: checkpoints/20230526-171326-3/assets\n"
     ]
    },
    {
     "name": "stderr",
     "output_type": "stream",
     "text": [
      "INFO:tensorflow:Assets written to: checkpoints/20230526-171326-3/assets\n"
     ]
    },
    {
     "name": "stdout",
     "output_type": "stream",
     "text": [
      "635/635 [==============================] - 109s 172ms/step - loss: 0.9911 - accuracy: 0.6850 - val_loss: 1.8447 - val_accuracy: 0.5264\n",
      "Epoch 7/25\n",
      "635/635 [==============================] - ETA: 0s - loss: 0.7785 - accuracy: 0.7519"
     ]
    },
    {
     "name": "stderr",
     "output_type": "stream",
     "text": [
      "WARNING:absl:Found untraced functions such as _jit_compiled_convolution_op, _jit_compiled_convolution_op, _jit_compiled_convolution_op, _jit_compiled_convolution_op, _jit_compiled_convolution_op while saving (showing 5 of 9). These functions will not be directly callable after loading.\n"
     ]
    },
    {
     "name": "stdout",
     "output_type": "stream",
     "text": [
      "INFO:tensorflow:Assets written to: checkpoints/20230526-171326-3/assets\n"
     ]
    },
    {
     "name": "stderr",
     "output_type": "stream",
     "text": [
      "INFO:tensorflow:Assets written to: checkpoints/20230526-171326-3/assets\n"
     ]
    },
    {
     "name": "stdout",
     "output_type": "stream",
     "text": [
      "635/635 [==============================] - 109s 172ms/step - loss: 0.7785 - accuracy: 0.7519 - val_loss: 1.9736 - val_accuracy: 0.5410\n",
      "79/79 [==============================] - 4s 46ms/step - loss: 2.1474 - accuracy: 0.5172\n",
      "Model: \"model_4\"\n",
      "__________________________________________________________________________________________________\n",
      " Layer (type)                   Output Shape         Param #     Connected to                     \n",
      "==================================================================================================\n",
      " input_5 (InputLayer)           [(None, 224, 224, 3  0           []                               \n",
      "                                )]                                                                \n",
      "                                                                                                  \n",
      " batch_normalization_52 (BatchN  (None, 224, 224, 3)  12         ['input_5[0][0]']                \n",
      " ormalization)                                                                                    \n",
      "                                                                                                  \n",
      " conv2d_37 (Conv2D)             (None, 224, 224, 32  896         ['batch_normalization_52[0][0]'] \n",
      "                                )                                                                 \n",
      "                                                                                                  \n",
      " batch_normalization_54 (BatchN  (None, 224, 224, 32  128        ['conv2d_37[0][0]']              \n",
      " ormalization)                  )                                                                 \n",
      "                                                                                                  \n",
      " conv2d_36 (Conv2D)             (None, 224, 224, 32  128         ['batch_normalization_52[0][0]'] \n",
      "                                )                                                                 \n",
      "                                                                                                  \n",
      " conv2d_38 (Conv2D)             (None, 224, 224, 32  9248        ['batch_normalization_54[0][0]'] \n",
      "                                )                                                                 \n",
      "                                                                                                  \n",
      " batch_normalization_53 (BatchN  (None, 224, 224, 32  128        ['conv2d_36[0][0]']              \n",
      " ormalization)                  )                                                                 \n",
      "                                                                                                  \n",
      " batch_normalization_55 (BatchN  (None, 224, 224, 32  128        ['conv2d_38[0][0]']              \n",
      " ormalization)                  )                                                                 \n",
      "                                                                                                  \n",
      " add_12 (Add)                   (None, 224, 224, 32  0           ['batch_normalization_53[0][0]', \n",
      "                                )                                 'batch_normalization_55[0][0]'] \n",
      "                                                                                                  \n",
      " activation_12 (Activation)     (None, 224, 224, 32  0           ['add_12[0][0]']                 \n",
      "                                )                                                                 \n",
      "                                                                                                  \n",
      " max_pooling2d_12 (MaxPooling2D  (None, 112, 112, 32  0          ['activation_12[0][0]']          \n",
      " )                              )                                                                 \n",
      "                                                                                                  \n",
      " batch_normalization_56 (BatchN  (None, 112, 112, 32  128        ['max_pooling2d_12[0][0]']       \n",
      " ormalization)                  )                                                                 \n",
      "                                                                                                  \n",
      " conv2d_40 (Conv2D)             (None, 112, 112, 64  18496       ['batch_normalization_56[0][0]'] \n",
      "                                )                                                                 \n",
      "                                                                                                  \n",
      " batch_normalization_58 (BatchN  (None, 112, 112, 64  256        ['conv2d_40[0][0]']              \n",
      " ormalization)                  )                                                                 \n",
      "                                                                                                  \n",
      " conv2d_39 (Conv2D)             (None, 112, 112, 64  2112        ['batch_normalization_56[0][0]'] \n",
      "                                )                                                                 \n",
      "                                                                                                  \n",
      " conv2d_41 (Conv2D)             (None, 112, 112, 64  36928       ['batch_normalization_58[0][0]'] \n",
      "                                )                                                                 \n",
      "                                                                                                  \n",
      " batch_normalization_57 (BatchN  (None, 112, 112, 64  256        ['conv2d_39[0][0]']              \n",
      " ormalization)                  )                                                                 \n",
      "                                                                                                  \n",
      " batch_normalization_59 (BatchN  (None, 112, 112, 64  256        ['conv2d_41[0][0]']              \n",
      " ormalization)                  )                                                                 \n",
      "                                                                                                  \n",
      " add_13 (Add)                   (None, 112, 112, 64  0           ['batch_normalization_57[0][0]', \n",
      "                                )                                 'batch_normalization_59[0][0]'] \n",
      "                                                                                                  \n",
      " activation_13 (Activation)     (None, 112, 112, 64  0           ['add_13[0][0]']                 \n",
      "                                )                                                                 \n",
      "                                                                                                  \n",
      " max_pooling2d_13 (MaxPooling2D  (None, 56, 56, 64)  0           ['activation_13[0][0]']          \n",
      " )                                                                                                \n",
      "                                                                                                  \n",
      " batch_normalization_60 (BatchN  (None, 56, 56, 64)  256         ['max_pooling2d_13[0][0]']       \n",
      " ormalization)                                                                                    \n",
      "                                                                                                  \n",
      " conv2d_43 (Conv2D)             (None, 56, 56, 128)  73856       ['batch_normalization_60[0][0]'] \n",
      "                                                                                                  \n",
      " batch_normalization_62 (BatchN  (None, 56, 56, 128)  512        ['conv2d_43[0][0]']              \n",
      " ormalization)                                                                                    \n",
      "                                                                                                  \n",
      " conv2d_42 (Conv2D)             (None, 56, 56, 128)  8320        ['batch_normalization_60[0][0]'] \n",
      "                                                                                                  \n",
      " conv2d_44 (Conv2D)             (None, 56, 56, 128)  147584      ['batch_normalization_62[0][0]'] \n",
      "                                                                                                  \n",
      " batch_normalization_61 (BatchN  (None, 56, 56, 128)  512        ['conv2d_42[0][0]']              \n",
      " ormalization)                                                                                    \n",
      "                                                                                                  \n"
     ]
    },
    {
     "name": "stdout",
     "output_type": "stream",
     "text": [
      " batch_normalization_63 (BatchN  (None, 56, 56, 128)  512        ['conv2d_44[0][0]']              \n",
      " ormalization)                                                                                    \n",
      "                                                                                                  \n",
      " add_14 (Add)                   (None, 56, 56, 128)  0           ['batch_normalization_61[0][0]', \n",
      "                                                                  'batch_normalization_63[0][0]'] \n",
      "                                                                                                  \n",
      " activation_14 (Activation)     (None, 56, 56, 128)  0           ['add_14[0][0]']                 \n",
      "                                                                                                  \n",
      " max_pooling2d_14 (MaxPooling2D  (None, 28, 28, 128)  0          ['activation_14[0][0]']          \n",
      " )                                                                                                \n",
      "                                                                                                  \n",
      " batch_normalization_64 (BatchN  (None, 28, 28, 128)  512        ['max_pooling2d_14[0][0]']       \n",
      " ormalization)                                                                                    \n",
      "                                                                                                  \n",
      " flatten_4 (Flatten)            (None, 100352)       0           ['batch_normalization_64[0][0]'] \n",
      "                                                                                                  \n",
      " dense_12 (Dense)               (None, 128)          12845184    ['flatten_4[0][0]']              \n",
      "                                                                                                  \n",
      " dense_13 (Dense)               (None, 192)          24768       ['dense_12[0][0]']               \n",
      "                                                                                                  \n",
      " dense_14 (Dense)               (None, 25)           4825        ['dense_13[0][0]']               \n",
      "                                                                                                  \n",
      "==================================================================================================\n",
      "Total params: 13,175,941\n",
      "Trainable params: 13,174,143\n",
      "Non-trainable params: 1,798\n",
      "__________________________________________________________________________________________________\n",
      "Epoch 1/25\n",
      "635/635 [==============================] - ETA: 0s - loss: 3.1189 - accuracy: 0.2103"
     ]
    },
    {
     "name": "stderr",
     "output_type": "stream",
     "text": [
      "WARNING:absl:Found untraced functions such as _jit_compiled_convolution_op, _jit_compiled_convolution_op, _jit_compiled_convolution_op, _jit_compiled_convolution_op, _jit_compiled_convolution_op while saving (showing 5 of 9). These functions will not be directly callable after loading.\n"
     ]
    },
    {
     "name": "stdout",
     "output_type": "stream",
     "text": [
      "INFO:tensorflow:Assets written to: checkpoints/20230526-171326-4/assets\n"
     ]
    },
    {
     "name": "stderr",
     "output_type": "stream",
     "text": [
      "INFO:tensorflow:Assets written to: checkpoints/20230526-171326-4/assets\n"
     ]
    },
    {
     "name": "stdout",
     "output_type": "stream",
     "text": [
      "635/635 [==============================] - 114s 172ms/step - loss: 3.1189 - accuracy: 0.2103 - val_loss: 2.5601 - val_accuracy: 0.2809\n",
      "Epoch 2/25\n",
      "635/635 [==============================] - ETA: 0s - loss: 2.1272 - accuracy: 0.3471"
     ]
    },
    {
     "name": "stderr",
     "output_type": "stream",
     "text": [
      "WARNING:absl:Found untraced functions such as _jit_compiled_convolution_op, _jit_compiled_convolution_op, _jit_compiled_convolution_op, _jit_compiled_convolution_op, _jit_compiled_convolution_op while saving (showing 5 of 9). These functions will not be directly callable after loading.\n"
     ]
    },
    {
     "name": "stdout",
     "output_type": "stream",
     "text": [
      "INFO:tensorflow:Assets written to: checkpoints/20230526-171326-4/assets\n"
     ]
    },
    {
     "name": "stderr",
     "output_type": "stream",
     "text": [
      "INFO:tensorflow:Assets written to: checkpoints/20230526-171326-4/assets\n"
     ]
    },
    {
     "name": "stdout",
     "output_type": "stream",
     "text": [
      "635/635 [==============================] - 109s 172ms/step - loss: 2.1272 - accuracy: 0.3471 - val_loss: 2.1573 - val_accuracy: 0.3593\n",
      "Epoch 3/25\n",
      "635/635 [==============================] - ETA: 0s - loss: 1.7313 - accuracy: 0.4621"
     ]
    },
    {
     "name": "stderr",
     "output_type": "stream",
     "text": [
      "WARNING:absl:Found untraced functions such as _jit_compiled_convolution_op, _jit_compiled_convolution_op, _jit_compiled_convolution_op, _jit_compiled_convolution_op, _jit_compiled_convolution_op while saving (showing 5 of 9). These functions will not be directly callable after loading.\n"
     ]
    },
    {
     "name": "stdout",
     "output_type": "stream",
     "text": [
      "INFO:tensorflow:Assets written to: checkpoints/20230526-171326-4/assets\n"
     ]
    },
    {
     "name": "stderr",
     "output_type": "stream",
     "text": [
      "INFO:tensorflow:Assets written to: checkpoints/20230526-171326-4/assets\n"
     ]
    },
    {
     "name": "stdout",
     "output_type": "stream",
     "text": [
      "635/635 [==============================] - 109s 172ms/step - loss: 1.7313 - accuracy: 0.4621 - val_loss: 2.0938 - val_accuracy: 0.4253\n",
      "Epoch 4/25\n",
      "635/635 [==============================] - ETA: 0s - loss: 1.4024 - accuracy: 0.5577"
     ]
    },
    {
     "name": "stderr",
     "output_type": "stream",
     "text": [
      "WARNING:absl:Found untraced functions such as _jit_compiled_convolution_op, _jit_compiled_convolution_op, _jit_compiled_convolution_op, _jit_compiled_convolution_op, _jit_compiled_convolution_op while saving (showing 5 of 9). These functions will not be directly callable after loading.\n"
     ]
    },
    {
     "name": "stdout",
     "output_type": "stream",
     "text": [
      "INFO:tensorflow:Assets written to: checkpoints/20230526-171326-4/assets\n"
     ]
    },
    {
     "name": "stderr",
     "output_type": "stream",
     "text": [
      "INFO:tensorflow:Assets written to: checkpoints/20230526-171326-4/assets\n"
     ]
    },
    {
     "name": "stdout",
     "output_type": "stream",
     "text": [
      "635/635 [==============================] - 109s 171ms/step - loss: 1.4024 - accuracy: 0.5577 - val_loss: 1.8307 - val_accuracy: 0.4874\n",
      "Epoch 5/25\n",
      "635/635 [==============================] - ETA: 0s - loss: 1.0991 - accuracy: 0.6569"
     ]
    },
    {
     "name": "stderr",
     "output_type": "stream",
     "text": [
      "WARNING:absl:Found untraced functions such as _jit_compiled_convolution_op, _jit_compiled_convolution_op, _jit_compiled_convolution_op, _jit_compiled_convolution_op, _jit_compiled_convolution_op while saving (showing 5 of 9). These functions will not be directly callable after loading.\n"
     ]
    },
    {
     "name": "stdout",
     "output_type": "stream",
     "text": [
      "INFO:tensorflow:Assets written to: checkpoints/20230526-171326-4/assets\n"
     ]
    },
    {
     "name": "stderr",
     "output_type": "stream",
     "text": [
      "INFO:tensorflow:Assets written to: checkpoints/20230526-171326-4/assets\n"
     ]
    },
    {
     "name": "stdout",
     "output_type": "stream",
     "text": [
      "635/635 [==============================] - 109s 172ms/step - loss: 1.0991 - accuracy: 0.6569 - val_loss: 1.8486 - val_accuracy: 0.5042\n",
      "79/79 [==============================] - 4s 46ms/step - loss: 2.0711 - accuracy: 0.4684\n",
      "Model: \"model_5\"\n",
      "__________________________________________________________________________________________________\n",
      " Layer (type)                   Output Shape         Param #     Connected to                     \n",
      "==================================================================================================\n",
      " input_6 (InputLayer)           [(None, 224, 224, 3  0           []                               \n",
      "                                )]                                                                \n",
      "                                                                                                  \n",
      " batch_normalization_65 (BatchN  (None, 224, 224, 3)  12         ['input_6[0][0]']                \n",
      " ormalization)                                                                                    \n",
      "                                                                                                  \n",
      " conv2d_46 (Conv2D)             (None, 224, 224, 32  896         ['batch_normalization_65[0][0]'] \n",
      "                                )                                                                 \n",
      "                                                                                                  \n",
      " batch_normalization_67 (BatchN  (None, 224, 224, 32  128        ['conv2d_46[0][0]']              \n",
      " ormalization)                  )                                                                 \n",
      "                                                                                                  \n",
      " conv2d_45 (Conv2D)             (None, 224, 224, 32  128         ['batch_normalization_65[0][0]'] \n",
      "                                )                                                                 \n",
      "                                                                                                  \n",
      " conv2d_47 (Conv2D)             (None, 224, 224, 32  9248        ['batch_normalization_67[0][0]'] \n",
      "                                )                                                                 \n",
      "                                                                                                  \n",
      " batch_normalization_66 (BatchN  (None, 224, 224, 32  128        ['conv2d_45[0][0]']              \n",
      " ormalization)                  )                                                                 \n",
      "                                                                                                  \n",
      " batch_normalization_68 (BatchN  (None, 224, 224, 32  128        ['conv2d_47[0][0]']              \n",
      " ormalization)                  )                                                                 \n",
      "                                                                                                  \n",
      " add_15 (Add)                   (None, 224, 224, 32  0           ['batch_normalization_66[0][0]', \n",
      "                                )                                 'batch_normalization_68[0][0]'] \n",
      "                                                                                                  \n",
      " activation_15 (Activation)     (None, 224, 224, 32  0           ['add_15[0][0]']                 \n",
      "                                )                                                                 \n",
      "                                                                                                  \n",
      " max_pooling2d_15 (MaxPooling2D  (None, 112, 112, 32  0          ['activation_15[0][0]']          \n",
      " )                              )                                                                 \n",
      "                                                                                                  \n",
      " batch_normalization_69 (BatchN  (None, 112, 112, 32  128        ['max_pooling2d_15[0][0]']       \n",
      " ormalization)                  )                                                                 \n",
      "                                                                                                  \n",
      " conv2d_49 (Conv2D)             (None, 112, 112, 64  18496       ['batch_normalization_69[0][0]'] \n",
      "                                )                                                                 \n",
      "                                                                                                  \n",
      " batch_normalization_71 (BatchN  (None, 112, 112, 64  256        ['conv2d_49[0][0]']              \n",
      " ormalization)                  )                                                                 \n",
      "                                                                                                  \n",
      " conv2d_48 (Conv2D)             (None, 112, 112, 64  2112        ['batch_normalization_69[0][0]'] \n",
      "                                )                                                                 \n",
      "                                                                                                  \n",
      " conv2d_50 (Conv2D)             (None, 112, 112, 64  36928       ['batch_normalization_71[0][0]'] \n",
      "                                )                                                                 \n",
      "                                                                                                  \n",
      " batch_normalization_70 (BatchN  (None, 112, 112, 64  256        ['conv2d_48[0][0]']              \n",
      " ormalization)                  )                                                                 \n",
      "                                                                                                  \n",
      " batch_normalization_72 (BatchN  (None, 112, 112, 64  256        ['conv2d_50[0][0]']              \n",
      " ormalization)                  )                                                                 \n",
      "                                                                                                  \n",
      " add_16 (Add)                   (None, 112, 112, 64  0           ['batch_normalization_70[0][0]', \n",
      "                                )                                 'batch_normalization_72[0][0]'] \n",
      "                                                                                                  \n",
      " activation_16 (Activation)     (None, 112, 112, 64  0           ['add_16[0][0]']                 \n",
      "                                )                                                                 \n",
      "                                                                                                  \n",
      " max_pooling2d_16 (MaxPooling2D  (None, 56, 56, 64)  0           ['activation_16[0][0]']          \n",
      " )                                                                                                \n",
      "                                                                                                  \n",
      " batch_normalization_73 (BatchN  (None, 56, 56, 64)  256         ['max_pooling2d_16[0][0]']       \n",
      " ormalization)                                                                                    \n",
      "                                                                                                  \n",
      " conv2d_52 (Conv2D)             (None, 56, 56, 128)  73856       ['batch_normalization_73[0][0]'] \n",
      "                                                                                                  \n",
      " batch_normalization_75 (BatchN  (None, 56, 56, 128)  512        ['conv2d_52[0][0]']              \n",
      " ormalization)                                                                                    \n",
      "                                                                                                  \n",
      " conv2d_51 (Conv2D)             (None, 56, 56, 128)  8320        ['batch_normalization_73[0][0]'] \n",
      "                                                                                                  \n",
      " conv2d_53 (Conv2D)             (None, 56, 56, 128)  147584      ['batch_normalization_75[0][0]'] \n",
      "                                                                                                  \n",
      " batch_normalization_74 (BatchN  (None, 56, 56, 128)  512        ['conv2d_51[0][0]']              \n",
      " ormalization)                                                                                    \n",
      "                                                                                                  \n"
     ]
    },
    {
     "name": "stdout",
     "output_type": "stream",
     "text": [
      " batch_normalization_76 (BatchN  (None, 56, 56, 128)  512        ['conv2d_53[0][0]']              \n",
      " ormalization)                                                                                    \n",
      "                                                                                                  \n",
      " add_17 (Add)                   (None, 56, 56, 128)  0           ['batch_normalization_74[0][0]', \n",
      "                                                                  'batch_normalization_76[0][0]'] \n",
      "                                                                                                  \n",
      " activation_17 (Activation)     (None, 56, 56, 128)  0           ['add_17[0][0]']                 \n",
      "                                                                                                  \n",
      " max_pooling2d_17 (MaxPooling2D  (None, 28, 28, 128)  0          ['activation_17[0][0]']          \n",
      " )                                                                                                \n",
      "                                                                                                  \n",
      " batch_normalization_77 (BatchN  (None, 28, 28, 128)  512        ['max_pooling2d_17[0][0]']       \n",
      " ormalization)                                                                                    \n",
      "                                                                                                  \n",
      " flatten_5 (Flatten)            (None, 100352)       0           ['batch_normalization_77[0][0]'] \n",
      "                                                                                                  \n",
      " dense_15 (Dense)               (None, 128)          12845184    ['flatten_5[0][0]']              \n",
      "                                                                                                  \n",
      " dense_16 (Dense)               (None, 192)          24768       ['dense_15[0][0]']               \n",
      "                                                                                                  \n",
      " dense_17 (Dense)               (None, 25)           4825        ['dense_16[0][0]']               \n",
      "                                                                                                  \n",
      "==================================================================================================\n",
      "Total params: 13,175,941\n",
      "Trainable params: 13,174,143\n",
      "Non-trainable params: 1,798\n",
      "__________________________________________________________________________________________________\n",
      "Epoch 1/25\n",
      "635/635 [==============================] - ETA: 0s - loss: 3.2663 - accuracy: 0.2004"
     ]
    },
    {
     "name": "stderr",
     "output_type": "stream",
     "text": [
      "WARNING:absl:Found untraced functions such as _jit_compiled_convolution_op, _jit_compiled_convolution_op, _jit_compiled_convolution_op, _jit_compiled_convolution_op, _jit_compiled_convolution_op while saving (showing 5 of 9). These functions will not be directly callable after loading.\n"
     ]
    },
    {
     "name": "stdout",
     "output_type": "stream",
     "text": [
      "INFO:tensorflow:Assets written to: checkpoints/20230526-171326-5/assets\n"
     ]
    },
    {
     "name": "stderr",
     "output_type": "stream",
     "text": [
      "INFO:tensorflow:Assets written to: checkpoints/20230526-171326-5/assets\n"
     ]
    },
    {
     "name": "stdout",
     "output_type": "stream",
     "text": [
      "635/635 [==============================] - 114s 172ms/step - loss: 3.2663 - accuracy: 0.2004 - val_loss: 2.6842 - val_accuracy: 0.2432\n",
      "Epoch 2/25\n",
      "635/635 [==============================] - ETA: 0s - loss: 2.2566 - accuracy: 0.3087"
     ]
    },
    {
     "name": "stderr",
     "output_type": "stream",
     "text": [
      "WARNING:absl:Found untraced functions such as _jit_compiled_convolution_op, _jit_compiled_convolution_op, _jit_compiled_convolution_op, _jit_compiled_convolution_op, _jit_compiled_convolution_op while saving (showing 5 of 9). These functions will not be directly callable after loading.\n"
     ]
    },
    {
     "name": "stdout",
     "output_type": "stream",
     "text": [
      "INFO:tensorflow:Assets written to: checkpoints/20230526-171326-5/assets\n"
     ]
    },
    {
     "name": "stderr",
     "output_type": "stream",
     "text": [
      "INFO:tensorflow:Assets written to: checkpoints/20230526-171326-5/assets\n"
     ]
    },
    {
     "name": "stdout",
     "output_type": "stream",
     "text": [
      "635/635 [==============================] - 109s 172ms/step - loss: 2.2566 - accuracy: 0.3087 - val_loss: 2.1747 - val_accuracy: 0.3646\n",
      "Epoch 3/25\n",
      "635/635 [==============================] - ETA: 0s - loss: 1.8440 - accuracy: 0.4229"
     ]
    },
    {
     "name": "stderr",
     "output_type": "stream",
     "text": [
      "WARNING:absl:Found untraced functions such as _jit_compiled_convolution_op, _jit_compiled_convolution_op, _jit_compiled_convolution_op, _jit_compiled_convolution_op, _jit_compiled_convolution_op while saving (showing 5 of 9). These functions will not be directly callable after loading.\n"
     ]
    },
    {
     "name": "stdout",
     "output_type": "stream",
     "text": [
      "INFO:tensorflow:Assets written to: checkpoints/20230526-171326-5/assets\n"
     ]
    },
    {
     "name": "stderr",
     "output_type": "stream",
     "text": [
      "INFO:tensorflow:Assets written to: checkpoints/20230526-171326-5/assets\n"
     ]
    },
    {
     "name": "stdout",
     "output_type": "stream",
     "text": [
      "635/635 [==============================] - 109s 172ms/step - loss: 1.8440 - accuracy: 0.4229 - val_loss: 1.9962 - val_accuracy: 0.4063\n",
      "Epoch 4/25\n",
      "635/635 [==============================] - ETA: 0s - loss: 1.5052 - accuracy: 0.5210"
     ]
    },
    {
     "name": "stderr",
     "output_type": "stream",
     "text": [
      "WARNING:absl:Found untraced functions such as _jit_compiled_convolution_op, _jit_compiled_convolution_op, _jit_compiled_convolution_op, _jit_compiled_convolution_op, _jit_compiled_convolution_op while saving (showing 5 of 9). These functions will not be directly callable after loading.\n"
     ]
    },
    {
     "name": "stdout",
     "output_type": "stream",
     "text": [
      "INFO:tensorflow:Assets written to: checkpoints/20230526-171326-5/assets\n"
     ]
    },
    {
     "name": "stderr",
     "output_type": "stream",
     "text": [
      "INFO:tensorflow:Assets written to: checkpoints/20230526-171326-5/assets\n"
     ]
    },
    {
     "name": "stdout",
     "output_type": "stream",
     "text": [
      "635/635 [==============================] - 109s 172ms/step - loss: 1.5052 - accuracy: 0.5210 - val_loss: 1.9809 - val_accuracy: 0.4360\n",
      "Epoch 5/25\n",
      "635/635 [==============================] - ETA: 0s - loss: 1.2110 - accuracy: 0.6076"
     ]
    },
    {
     "name": "stderr",
     "output_type": "stream",
     "text": [
      "WARNING:absl:Found untraced functions such as _jit_compiled_convolution_op, _jit_compiled_convolution_op, _jit_compiled_convolution_op, _jit_compiled_convolution_op, _jit_compiled_convolution_op while saving (showing 5 of 9). These functions will not be directly callable after loading.\n"
     ]
    },
    {
     "name": "stdout",
     "output_type": "stream",
     "text": [
      "INFO:tensorflow:Assets written to: checkpoints/20230526-171326-5/assets\n"
     ]
    },
    {
     "name": "stderr",
     "output_type": "stream",
     "text": [
      "INFO:tensorflow:Assets written to: checkpoints/20230526-171326-5/assets\n"
     ]
    },
    {
     "name": "stdout",
     "output_type": "stream",
     "text": [
      "635/635 [==============================] - 109s 172ms/step - loss: 1.2110 - accuracy: 0.6076 - val_loss: 2.0749 - val_accuracy: 0.4559\n",
      "79/79 [==============================] - 4s 46ms/step - loss: 2.2456 - accuracy: 0.4492\n",
      "Model: \"model_6\"\n",
      "__________________________________________________________________________________________________\n",
      " Layer (type)                   Output Shape         Param #     Connected to                     \n",
      "==================================================================================================\n",
      " input_7 (InputLayer)           [(None, 224, 224, 3  0           []                               \n",
      "                                )]                                                                \n",
      "                                                                                                  \n",
      " batch_normalization_78 (BatchN  (None, 224, 224, 3)  12         ['input_7[0][0]']                \n",
      " ormalization)                                                                                    \n",
      "                                                                                                  \n",
      " conv2d_55 (Conv2D)             (None, 224, 224, 32  896         ['batch_normalization_78[0][0]'] \n",
      "                                )                                                                 \n",
      "                                                                                                  \n",
      " batch_normalization_80 (BatchN  (None, 224, 224, 32  128        ['conv2d_55[0][0]']              \n",
      " ormalization)                  )                                                                 \n",
      "                                                                                                  \n",
      " conv2d_54 (Conv2D)             (None, 224, 224, 32  128         ['batch_normalization_78[0][0]'] \n",
      "                                )                                                                 \n",
      "                                                                                                  \n",
      " conv2d_56 (Conv2D)             (None, 224, 224, 32  9248        ['batch_normalization_80[0][0]'] \n",
      "                                )                                                                 \n",
      "                                                                                                  \n",
      " batch_normalization_79 (BatchN  (None, 224, 224, 32  128        ['conv2d_54[0][0]']              \n",
      " ormalization)                  )                                                                 \n",
      "                                                                                                  \n",
      " batch_normalization_81 (BatchN  (None, 224, 224, 32  128        ['conv2d_56[0][0]']              \n",
      " ormalization)                  )                                                                 \n",
      "                                                                                                  \n",
      " add_18 (Add)                   (None, 224, 224, 32  0           ['batch_normalization_79[0][0]', \n",
      "                                )                                 'batch_normalization_81[0][0]'] \n",
      "                                                                                                  \n",
      " activation_18 (Activation)     (None, 224, 224, 32  0           ['add_18[0][0]']                 \n",
      "                                )                                                                 \n",
      "                                                                                                  \n",
      " max_pooling2d_18 (MaxPooling2D  (None, 112, 112, 32  0          ['activation_18[0][0]']          \n",
      " )                              )                                                                 \n",
      "                                                                                                  \n",
      " batch_normalization_82 (BatchN  (None, 112, 112, 32  128        ['max_pooling2d_18[0][0]']       \n",
      " ormalization)                  )                                                                 \n",
      "                                                                                                  \n",
      " conv2d_58 (Conv2D)             (None, 112, 112, 64  18496       ['batch_normalization_82[0][0]'] \n",
      "                                )                                                                 \n",
      "                                                                                                  \n",
      " batch_normalization_84 (BatchN  (None, 112, 112, 64  256        ['conv2d_58[0][0]']              \n",
      " ormalization)                  )                                                                 \n",
      "                                                                                                  \n",
      " conv2d_57 (Conv2D)             (None, 112, 112, 64  2112        ['batch_normalization_82[0][0]'] \n",
      "                                )                                                                 \n",
      "                                                                                                  \n",
      " conv2d_59 (Conv2D)             (None, 112, 112, 64  36928       ['batch_normalization_84[0][0]'] \n",
      "                                )                                                                 \n",
      "                                                                                                  \n",
      " batch_normalization_83 (BatchN  (None, 112, 112, 64  256        ['conv2d_57[0][0]']              \n",
      " ormalization)                  )                                                                 \n",
      "                                                                                                  \n",
      " batch_normalization_85 (BatchN  (None, 112, 112, 64  256        ['conv2d_59[0][0]']              \n",
      " ormalization)                  )                                                                 \n",
      "                                                                                                  \n",
      " add_19 (Add)                   (None, 112, 112, 64  0           ['batch_normalization_83[0][0]', \n",
      "                                )                                 'batch_normalization_85[0][0]'] \n",
      "                                                                                                  \n",
      " activation_19 (Activation)     (None, 112, 112, 64  0           ['add_19[0][0]']                 \n",
      "                                )                                                                 \n",
      "                                                                                                  \n",
      " max_pooling2d_19 (MaxPooling2D  (None, 56, 56, 64)  0           ['activation_19[0][0]']          \n",
      " )                                                                                                \n",
      "                                                                                                  \n",
      " batch_normalization_86 (BatchN  (None, 56, 56, 64)  256         ['max_pooling2d_19[0][0]']       \n",
      " ormalization)                                                                                    \n",
      "                                                                                                  \n",
      " conv2d_61 (Conv2D)             (None, 56, 56, 128)  73856       ['batch_normalization_86[0][0]'] \n",
      "                                                                                                  \n",
      " batch_normalization_88 (BatchN  (None, 56, 56, 128)  512        ['conv2d_61[0][0]']              \n",
      " ormalization)                                                                                    \n",
      "                                                                                                  \n",
      " conv2d_60 (Conv2D)             (None, 56, 56, 128)  8320        ['batch_normalization_86[0][0]'] \n",
      "                                                                                                  \n",
      " conv2d_62 (Conv2D)             (None, 56, 56, 128)  147584      ['batch_normalization_88[0][0]'] \n",
      "                                                                                                  \n",
      " batch_normalization_87 (BatchN  (None, 56, 56, 128)  512        ['conv2d_60[0][0]']              \n",
      " ormalization)                                                                                    \n",
      "                                                                                                  \n"
     ]
    },
    {
     "name": "stdout",
     "output_type": "stream",
     "text": [
      " batch_normalization_89 (BatchN  (None, 56, 56, 128)  512        ['conv2d_62[0][0]']              \n",
      " ormalization)                                                                                    \n",
      "                                                                                                  \n",
      " add_20 (Add)                   (None, 56, 56, 128)  0           ['batch_normalization_87[0][0]', \n",
      "                                                                  'batch_normalization_89[0][0]'] \n",
      "                                                                                                  \n",
      " activation_20 (Activation)     (None, 56, 56, 128)  0           ['add_20[0][0]']                 \n",
      "                                                                                                  \n",
      " max_pooling2d_20 (MaxPooling2D  (None, 28, 28, 128)  0          ['activation_20[0][0]']          \n",
      " )                                                                                                \n",
      "                                                                                                  \n",
      " batch_normalization_90 (BatchN  (None, 28, 28, 128)  512        ['max_pooling2d_20[0][0]']       \n",
      " ormalization)                                                                                    \n",
      "                                                                                                  \n",
      " flatten_6 (Flatten)            (None, 100352)       0           ['batch_normalization_90[0][0]'] \n",
      "                                                                                                  \n",
      " dense_18 (Dense)               (None, 128)          12845184    ['flatten_6[0][0]']              \n",
      "                                                                                                  \n",
      " dense_19 (Dense)               (None, 192)          24768       ['dense_18[0][0]']               \n",
      "                                                                                                  \n",
      " dense_20 (Dense)               (None, 25)           4825        ['dense_19[0][0]']               \n",
      "                                                                                                  \n",
      "==================================================================================================\n",
      "Total params: 13,175,941\n",
      "Trainable params: 13,174,143\n",
      "Non-trainable params: 1,798\n",
      "__________________________________________________________________________________________________\n",
      "Epoch 1/25\n",
      "635/635 [==============================] - ETA: 0s - loss: 3.2793 - accuracy: 0.1845"
     ]
    },
    {
     "name": "stderr",
     "output_type": "stream",
     "text": [
      "WARNING:absl:Found untraced functions such as _jit_compiled_convolution_op, _jit_compiled_convolution_op, _jit_compiled_convolution_op, _jit_compiled_convolution_op, _jit_compiled_convolution_op while saving (showing 5 of 9). These functions will not be directly callable after loading.\n"
     ]
    },
    {
     "name": "stdout",
     "output_type": "stream",
     "text": [
      "INFO:tensorflow:Assets written to: checkpoints/20230526-171326-6/assets\n"
     ]
    },
    {
     "name": "stderr",
     "output_type": "stream",
     "text": [
      "INFO:tensorflow:Assets written to: checkpoints/20230526-171326-6/assets\n"
     ]
    },
    {
     "name": "stdout",
     "output_type": "stream",
     "text": [
      "635/635 [==============================] - 114s 172ms/step - loss: 3.2793 - accuracy: 0.1845 - val_loss: 2.4596 - val_accuracy: 0.2397\n",
      "Epoch 2/25\n",
      "635/635 [==============================] - ETA: 0s - loss: 2.2181 - accuracy: 0.3151"
     ]
    },
    {
     "name": "stderr",
     "output_type": "stream",
     "text": [
      "WARNING:absl:Found untraced functions such as _jit_compiled_convolution_op, _jit_compiled_convolution_op, _jit_compiled_convolution_op, _jit_compiled_convolution_op, _jit_compiled_convolution_op while saving (showing 5 of 9). These functions will not be directly callable after loading.\n"
     ]
    },
    {
     "name": "stdout",
     "output_type": "stream",
     "text": [
      "INFO:tensorflow:Assets written to: checkpoints/20230526-171326-6/assets\n"
     ]
    },
    {
     "name": "stderr",
     "output_type": "stream",
     "text": [
      "INFO:tensorflow:Assets written to: checkpoints/20230526-171326-6/assets\n"
     ]
    },
    {
     "name": "stdout",
     "output_type": "stream",
     "text": [
      "635/635 [==============================] - 109s 172ms/step - loss: 2.2181 - accuracy: 0.3151 - val_loss: 2.1566 - val_accuracy: 0.3500\n",
      "Epoch 3/25\n",
      "635/635 [==============================] - ETA: 0s - loss: 1.8072 - accuracy: 0.4356"
     ]
    },
    {
     "name": "stderr",
     "output_type": "stream",
     "text": [
      "WARNING:absl:Found untraced functions such as _jit_compiled_convolution_op, _jit_compiled_convolution_op, _jit_compiled_convolution_op, _jit_compiled_convolution_op, _jit_compiled_convolution_op while saving (showing 5 of 9). These functions will not be directly callable after loading.\n"
     ]
    },
    {
     "name": "stdout",
     "output_type": "stream",
     "text": [
      "INFO:tensorflow:Assets written to: checkpoints/20230526-171326-6/assets\n"
     ]
    },
    {
     "name": "stderr",
     "output_type": "stream",
     "text": [
      "INFO:tensorflow:Assets written to: checkpoints/20230526-171326-6/assets\n"
     ]
    },
    {
     "name": "stdout",
     "output_type": "stream",
     "text": [
      "635/635 [==============================] - 109s 171ms/step - loss: 1.8072 - accuracy: 0.4356 - val_loss: 2.1442 - val_accuracy: 0.4045\n",
      "Epoch 4/25\n",
      "635/635 [==============================] - ETA: 0s - loss: 1.4526 - accuracy: 0.5446"
     ]
    },
    {
     "name": "stderr",
     "output_type": "stream",
     "text": [
      "WARNING:absl:Found untraced functions such as _jit_compiled_convolution_op, _jit_compiled_convolution_op, _jit_compiled_convolution_op, _jit_compiled_convolution_op, _jit_compiled_convolution_op while saving (showing 5 of 9). These functions will not be directly callable after loading.\n"
     ]
    },
    {
     "name": "stdout",
     "output_type": "stream",
     "text": [
      "INFO:tensorflow:Assets written to: checkpoints/20230526-171326-6/assets\n"
     ]
    },
    {
     "name": "stderr",
     "output_type": "stream",
     "text": [
      "INFO:tensorflow:Assets written to: checkpoints/20230526-171326-6/assets\n"
     ]
    },
    {
     "name": "stdout",
     "output_type": "stream",
     "text": [
      "635/635 [==============================] - 109s 171ms/step - loss: 1.4526 - accuracy: 0.5446 - val_loss: 2.0110 - val_accuracy: 0.4395\n",
      "Epoch 5/25\n",
      "635/635 [==============================] - ETA: 0s - loss: 1.1559 - accuracy: 0.6346"
     ]
    },
    {
     "name": "stderr",
     "output_type": "stream",
     "text": [
      "WARNING:absl:Found untraced functions such as _jit_compiled_convolution_op, _jit_compiled_convolution_op, _jit_compiled_convolution_op, _jit_compiled_convolution_op, _jit_compiled_convolution_op while saving (showing 5 of 9). These functions will not be directly callable after loading.\n"
     ]
    },
    {
     "name": "stdout",
     "output_type": "stream",
     "text": [
      "INFO:tensorflow:Assets written to: checkpoints/20230526-171326-6/assets\n"
     ]
    },
    {
     "name": "stderr",
     "output_type": "stream",
     "text": [
      "INFO:tensorflow:Assets written to: checkpoints/20230526-171326-6/assets\n"
     ]
    },
    {
     "name": "stdout",
     "output_type": "stream",
     "text": [
      "635/635 [==============================] - 109s 172ms/step - loss: 1.1559 - accuracy: 0.6346 - val_loss: 1.9639 - val_accuracy: 0.4984\n",
      "Epoch 6/25\n",
      "635/635 [==============================] - ETA: 0s - loss: 0.9122 - accuracy: 0.7111"
     ]
    },
    {
     "name": "stderr",
     "output_type": "stream",
     "text": [
      "WARNING:absl:Found untraced functions such as _jit_compiled_convolution_op, _jit_compiled_convolution_op, _jit_compiled_convolution_op, _jit_compiled_convolution_op, _jit_compiled_convolution_op while saving (showing 5 of 9). These functions will not be directly callable after loading.\n"
     ]
    },
    {
     "name": "stdout",
     "output_type": "stream",
     "text": [
      "INFO:tensorflow:Assets written to: checkpoints/20230526-171326-6/assets\n"
     ]
    },
    {
     "name": "stderr",
     "output_type": "stream",
     "text": [
      "INFO:tensorflow:Assets written to: checkpoints/20230526-171326-6/assets\n"
     ]
    },
    {
     "name": "stdout",
     "output_type": "stream",
     "text": [
      "635/635 [==============================] - 109s 172ms/step - loss: 0.9122 - accuracy: 0.7111 - val_loss: 1.8861 - val_accuracy: 0.5086\n",
      "Epoch 7/25\n",
      "635/635 [==============================] - ETA: 0s - loss: 0.7481 - accuracy: 0.7638"
     ]
    },
    {
     "name": "stderr",
     "output_type": "stream",
     "text": [
      "WARNING:absl:Found untraced functions such as _jit_compiled_convolution_op, _jit_compiled_convolution_op, _jit_compiled_convolution_op, _jit_compiled_convolution_op, _jit_compiled_convolution_op while saving (showing 5 of 9). These functions will not be directly callable after loading.\n"
     ]
    },
    {
     "name": "stdout",
     "output_type": "stream",
     "text": [
      "INFO:tensorflow:Assets written to: checkpoints/20230526-171326-6/assets\n"
     ]
    },
    {
     "name": "stderr",
     "output_type": "stream",
     "text": [
      "INFO:tensorflow:Assets written to: checkpoints/20230526-171326-6/assets\n"
     ]
    },
    {
     "name": "stdout",
     "output_type": "stream",
     "text": [
      "635/635 [==============================] - 109s 172ms/step - loss: 0.7481 - accuracy: 0.7638 - val_loss: 1.8581 - val_accuracy: 0.5374\n",
      "Epoch 8/25\n",
      "635/635 [==============================] - ETA: 0s - loss: 0.6265 - accuracy: 0.8011"
     ]
    },
    {
     "name": "stderr",
     "output_type": "stream",
     "text": [
      "WARNING:absl:Found untraced functions such as _jit_compiled_convolution_op, _jit_compiled_convolution_op, _jit_compiled_convolution_op, _jit_compiled_convolution_op, _jit_compiled_convolution_op while saving (showing 5 of 9). These functions will not be directly callable after loading.\n"
     ]
    },
    {
     "name": "stdout",
     "output_type": "stream",
     "text": [
      "INFO:tensorflow:Assets written to: checkpoints/20230526-171326-6/assets\n"
     ]
    },
    {
     "name": "stderr",
     "output_type": "stream",
     "text": [
      "INFO:tensorflow:Assets written to: checkpoints/20230526-171326-6/assets\n"
     ]
    },
    {
     "name": "stdout",
     "output_type": "stream",
     "text": [
      "635/635 [==============================] - 109s 172ms/step - loss: 0.6265 - accuracy: 0.8011 - val_loss: 2.0346 - val_accuracy: 0.5290\n",
      "79/79 [==============================] - 4s 46ms/step - loss: 2.2974 - accuracy: 0.4984\n",
      "Model: \"model_7\"\n",
      "__________________________________________________________________________________________________\n",
      " Layer (type)                   Output Shape         Param #     Connected to                     \n",
      "==================================================================================================\n",
      " input_8 (InputLayer)           [(None, 224, 224, 3  0           []                               \n",
      "                                )]                                                                \n",
      "                                                                                                  \n",
      " batch_normalization_91 (BatchN  (None, 224, 224, 3)  12         ['input_8[0][0]']                \n",
      " ormalization)                                                                                    \n",
      "                                                                                                  \n",
      " conv2d_64 (Conv2D)             (None, 224, 224, 32  896         ['batch_normalization_91[0][0]'] \n",
      "                                )                                                                 \n",
      "                                                                                                  \n",
      " batch_normalization_93 (BatchN  (None, 224, 224, 32  128        ['conv2d_64[0][0]']              \n",
      " ormalization)                  )                                                                 \n",
      "                                                                                                  \n",
      " conv2d_63 (Conv2D)             (None, 224, 224, 32  128         ['batch_normalization_91[0][0]'] \n",
      "                                )                                                                 \n",
      "                                                                                                  \n",
      " conv2d_65 (Conv2D)             (None, 224, 224, 32  9248        ['batch_normalization_93[0][0]'] \n",
      "                                )                                                                 \n",
      "                                                                                                  \n",
      " batch_normalization_92 (BatchN  (None, 224, 224, 32  128        ['conv2d_63[0][0]']              \n",
      " ormalization)                  )                                                                 \n",
      "                                                                                                  \n",
      " batch_normalization_94 (BatchN  (None, 224, 224, 32  128        ['conv2d_65[0][0]']              \n",
      " ormalization)                  )                                                                 \n",
      "                                                                                                  \n",
      " add_21 (Add)                   (None, 224, 224, 32  0           ['batch_normalization_92[0][0]', \n",
      "                                )                                 'batch_normalization_94[0][0]'] \n",
      "                                                                                                  \n",
      " activation_21 (Activation)     (None, 224, 224, 32  0           ['add_21[0][0]']                 \n",
      "                                )                                                                 \n",
      "                                                                                                  \n",
      " max_pooling2d_21 (MaxPooling2D  (None, 112, 112, 32  0          ['activation_21[0][0]']          \n",
      " )                              )                                                                 \n",
      "                                                                                                  \n",
      " batch_normalization_95 (BatchN  (None, 112, 112, 32  128        ['max_pooling2d_21[0][0]']       \n",
      " ormalization)                  )                                                                 \n",
      "                                                                                                  \n",
      " conv2d_67 (Conv2D)             (None, 112, 112, 64  18496       ['batch_normalization_95[0][0]'] \n",
      "                                )                                                                 \n",
      "                                                                                                  \n",
      " batch_normalization_97 (BatchN  (None, 112, 112, 64  256        ['conv2d_67[0][0]']              \n",
      " ormalization)                  )                                                                 \n",
      "                                                                                                  \n",
      " conv2d_66 (Conv2D)             (None, 112, 112, 64  2112        ['batch_normalization_95[0][0]'] \n",
      "                                )                                                                 \n",
      "                                                                                                  \n",
      " conv2d_68 (Conv2D)             (None, 112, 112, 64  36928       ['batch_normalization_97[0][0]'] \n",
      "                                )                                                                 \n",
      "                                                                                                  \n",
      " batch_normalization_96 (BatchN  (None, 112, 112, 64  256        ['conv2d_66[0][0]']              \n",
      " ormalization)                  )                                                                 \n",
      "                                                                                                  \n",
      " batch_normalization_98 (BatchN  (None, 112, 112, 64  256        ['conv2d_68[0][0]']              \n",
      " ormalization)                  )                                                                 \n",
      "                                                                                                  \n",
      " add_22 (Add)                   (None, 112, 112, 64  0           ['batch_normalization_96[0][0]', \n",
      "                                )                                 'batch_normalization_98[0][0]'] \n",
      "                                                                                                  \n",
      " activation_22 (Activation)     (None, 112, 112, 64  0           ['add_22[0][0]']                 \n",
      "                                )                                                                 \n",
      "                                                                                                  \n",
      " max_pooling2d_22 (MaxPooling2D  (None, 56, 56, 64)  0           ['activation_22[0][0]']          \n",
      " )                                                                                                \n",
      "                                                                                                  \n",
      " batch_normalization_99 (BatchN  (None, 56, 56, 64)  256         ['max_pooling2d_22[0][0]']       \n",
      " ormalization)                                                                                    \n",
      "                                                                                                  \n",
      " conv2d_70 (Conv2D)             (None, 56, 56, 128)  73856       ['batch_normalization_99[0][0]'] \n",
      "                                                                                                  \n",
      " batch_normalization_101 (Batch  (None, 56, 56, 128)  512        ['conv2d_70[0][0]']              \n",
      " Normalization)                                                                                   \n",
      "                                                                                                  \n",
      " conv2d_69 (Conv2D)             (None, 56, 56, 128)  8320        ['batch_normalization_99[0][0]'] \n",
      "                                                                                                  \n",
      " conv2d_71 (Conv2D)             (None, 56, 56, 128)  147584      ['batch_normalization_101[0][0]']\n",
      "                                                                                                  \n",
      " batch_normalization_100 (Batch  (None, 56, 56, 128)  512        ['conv2d_69[0][0]']              \n",
      " Normalization)                                                                                   \n",
      "                                                                                                  \n"
     ]
    },
    {
     "name": "stdout",
     "output_type": "stream",
     "text": [
      " batch_normalization_102 (Batch  (None, 56, 56, 128)  512        ['conv2d_71[0][0]']              \n",
      " Normalization)                                                                                   \n",
      "                                                                                                  \n",
      " add_23 (Add)                   (None, 56, 56, 128)  0           ['batch_normalization_100[0][0]',\n",
      "                                                                  'batch_normalization_102[0][0]']\n",
      "                                                                                                  \n",
      " activation_23 (Activation)     (None, 56, 56, 128)  0           ['add_23[0][0]']                 \n",
      "                                                                                                  \n",
      " max_pooling2d_23 (MaxPooling2D  (None, 28, 28, 128)  0          ['activation_23[0][0]']          \n",
      " )                                                                                                \n",
      "                                                                                                  \n",
      " batch_normalization_103 (Batch  (None, 28, 28, 128)  512        ['max_pooling2d_23[0][0]']       \n",
      " Normalization)                                                                                   \n",
      "                                                                                                  \n",
      " flatten_7 (Flatten)            (None, 100352)       0           ['batch_normalization_103[0][0]']\n",
      "                                                                                                  \n",
      " dense_21 (Dense)               (None, 128)          12845184    ['flatten_7[0][0]']              \n",
      "                                                                                                  \n",
      " dense_22 (Dense)               (None, 192)          24768       ['dense_21[0][0]']               \n",
      "                                                                                                  \n",
      " dense_23 (Dense)               (None, 25)           4825        ['dense_22[0][0]']               \n",
      "                                                                                                  \n",
      "==================================================================================================\n",
      "Total params: 13,175,941\n",
      "Trainable params: 13,174,143\n",
      "Non-trainable params: 1,798\n",
      "__________________________________________________________________________________________________\n",
      "Epoch 1/25\n",
      "635/635 [==============================] - ETA: 0s - loss: 3.3007 - accuracy: 0.2393"
     ]
    },
    {
     "name": "stderr",
     "output_type": "stream",
     "text": [
      "WARNING:absl:Found untraced functions such as _jit_compiled_convolution_op, _jit_compiled_convolution_op, _jit_compiled_convolution_op, _jit_compiled_convolution_op, _jit_compiled_convolution_op while saving (showing 5 of 9). These functions will not be directly callable after loading.\n"
     ]
    },
    {
     "name": "stdout",
     "output_type": "stream",
     "text": [
      "INFO:tensorflow:Assets written to: checkpoints/20230526-171326-7/assets\n"
     ]
    },
    {
     "name": "stderr",
     "output_type": "stream",
     "text": [
      "INFO:tensorflow:Assets written to: checkpoints/20230526-171326-7/assets\n"
     ]
    },
    {
     "name": "stdout",
     "output_type": "stream",
     "text": [
      "635/635 [==============================] - 114s 172ms/step - loss: 3.3007 - accuracy: 0.2393 - val_loss: 2.4301 - val_accuracy: 0.2893\n",
      "Epoch 2/25\n",
      "635/635 [==============================] - ETA: 0s - loss: 1.9018 - accuracy: 0.4197"
     ]
    },
    {
     "name": "stderr",
     "output_type": "stream",
     "text": [
      "WARNING:absl:Found untraced functions such as _jit_compiled_convolution_op, _jit_compiled_convolution_op, _jit_compiled_convolution_op, _jit_compiled_convolution_op, _jit_compiled_convolution_op while saving (showing 5 of 9). These functions will not be directly callable after loading.\n"
     ]
    },
    {
     "name": "stdout",
     "output_type": "stream",
     "text": [
      "INFO:tensorflow:Assets written to: checkpoints/20230526-171326-7/assets\n"
     ]
    },
    {
     "name": "stderr",
     "output_type": "stream",
     "text": [
      "INFO:tensorflow:Assets written to: checkpoints/20230526-171326-7/assets\n"
     ]
    },
    {
     "name": "stdout",
     "output_type": "stream",
     "text": [
      "635/635 [==============================] - 109s 171ms/step - loss: 1.9018 - accuracy: 0.4197 - val_loss: 1.9891 - val_accuracy: 0.4373\n",
      "Epoch 3/25\n",
      "635/635 [==============================] - ETA: 0s - loss: 1.4161 - accuracy: 0.5627"
     ]
    },
    {
     "name": "stderr",
     "output_type": "stream",
     "text": [
      "WARNING:absl:Found untraced functions such as _jit_compiled_convolution_op, _jit_compiled_convolution_op, _jit_compiled_convolution_op, _jit_compiled_convolution_op, _jit_compiled_convolution_op while saving (showing 5 of 9). These functions will not be directly callable after loading.\n"
     ]
    },
    {
     "name": "stdout",
     "output_type": "stream",
     "text": [
      "INFO:tensorflow:Assets written to: checkpoints/20230526-171326-7/assets\n"
     ]
    },
    {
     "name": "stderr",
     "output_type": "stream",
     "text": [
      "INFO:tensorflow:Assets written to: checkpoints/20230526-171326-7/assets\n"
     ]
    },
    {
     "name": "stdout",
     "output_type": "stream",
     "text": [
      "635/635 [==============================] - 109s 172ms/step - loss: 1.4161 - accuracy: 0.5627 - val_loss: 1.8060 - val_accuracy: 0.4971\n",
      "Epoch 4/25\n",
      "635/635 [==============================] - ETA: 0s - loss: 1.0495 - accuracy: 0.6734"
     ]
    },
    {
     "name": "stderr",
     "output_type": "stream",
     "text": [
      "WARNING:absl:Found untraced functions such as _jit_compiled_convolution_op, _jit_compiled_convolution_op, _jit_compiled_convolution_op, _jit_compiled_convolution_op, _jit_compiled_convolution_op while saving (showing 5 of 9). These functions will not be directly callable after loading.\n"
     ]
    },
    {
     "name": "stdout",
     "output_type": "stream",
     "text": [
      "INFO:tensorflow:Assets written to: checkpoints/20230526-171326-7/assets\n"
     ]
    },
    {
     "name": "stderr",
     "output_type": "stream",
     "text": [
      "INFO:tensorflow:Assets written to: checkpoints/20230526-171326-7/assets\n"
     ]
    },
    {
     "name": "stdout",
     "output_type": "stream",
     "text": [
      "635/635 [==============================] - 109s 172ms/step - loss: 1.0495 - accuracy: 0.6734 - val_loss: 1.9190 - val_accuracy: 0.4936\n",
      "79/79 [==============================] - 4s 46ms/step - loss: 2.1762 - accuracy: 0.4744\n",
      "Model: \"model_8\"\n",
      "__________________________________________________________________________________________________\n",
      " Layer (type)                   Output Shape         Param #     Connected to                     \n",
      "==================================================================================================\n",
      " input_9 (InputLayer)           [(None, 224, 224, 3  0           []                               \n",
      "                                )]                                                                \n",
      "                                                                                                  \n",
      " batch_normalization_104 (Batch  (None, 224, 224, 3)  12         ['input_9[0][0]']                \n",
      " Normalization)                                                                                   \n",
      "                                                                                                  \n",
      " conv2d_73 (Conv2D)             (None, 224, 224, 32  896         ['batch_normalization_104[0][0]']\n",
      "                                )                                                                 \n",
      "                                                                                                  \n",
      " batch_normalization_106 (Batch  (None, 224, 224, 32  128        ['conv2d_73[0][0]']              \n",
      " Normalization)                 )                                                                 \n",
      "                                                                                                  \n",
      " conv2d_72 (Conv2D)             (None, 224, 224, 32  128         ['batch_normalization_104[0][0]']\n",
      "                                )                                                                 \n",
      "                                                                                                  \n",
      " conv2d_74 (Conv2D)             (None, 224, 224, 32  9248        ['batch_normalization_106[0][0]']\n",
      "                                )                                                                 \n",
      "                                                                                                  \n",
      " batch_normalization_105 (Batch  (None, 224, 224, 32  128        ['conv2d_72[0][0]']              \n",
      " Normalization)                 )                                                                 \n",
      "                                                                                                  \n",
      " batch_normalization_107 (Batch  (None, 224, 224, 32  128        ['conv2d_74[0][0]']              \n",
      " Normalization)                 )                                                                 \n",
      "                                                                                                  \n",
      " add_24 (Add)                   (None, 224, 224, 32  0           ['batch_normalization_105[0][0]',\n",
      "                                )                                 'batch_normalization_107[0][0]']\n",
      "                                                                                                  \n",
      " activation_24 (Activation)     (None, 224, 224, 32  0           ['add_24[0][0]']                 \n",
      "                                )                                                                 \n",
      "                                                                                                  \n",
      " max_pooling2d_24 (MaxPooling2D  (None, 112, 112, 32  0          ['activation_24[0][0]']          \n",
      " )                              )                                                                 \n",
      "                                                                                                  \n",
      " batch_normalization_108 (Batch  (None, 112, 112, 32  128        ['max_pooling2d_24[0][0]']       \n",
      " Normalization)                 )                                                                 \n",
      "                                                                                                  \n",
      " conv2d_76 (Conv2D)             (None, 112, 112, 64  18496       ['batch_normalization_108[0][0]']\n",
      "                                )                                                                 \n",
      "                                                                                                  \n",
      " batch_normalization_110 (Batch  (None, 112, 112, 64  256        ['conv2d_76[0][0]']              \n",
      " Normalization)                 )                                                                 \n",
      "                                                                                                  \n",
      " conv2d_75 (Conv2D)             (None, 112, 112, 64  2112        ['batch_normalization_108[0][0]']\n",
      "                                )                                                                 \n",
      "                                                                                                  \n",
      " conv2d_77 (Conv2D)             (None, 112, 112, 64  36928       ['batch_normalization_110[0][0]']\n",
      "                                )                                                                 \n",
      "                                                                                                  \n",
      " batch_normalization_109 (Batch  (None, 112, 112, 64  256        ['conv2d_75[0][0]']              \n",
      " Normalization)                 )                                                                 \n",
      "                                                                                                  \n",
      " batch_normalization_111 (Batch  (None, 112, 112, 64  256        ['conv2d_77[0][0]']              \n",
      " Normalization)                 )                                                                 \n",
      "                                                                                                  \n",
      " add_25 (Add)                   (None, 112, 112, 64  0           ['batch_normalization_109[0][0]',\n",
      "                                )                                 'batch_normalization_111[0][0]']\n",
      "                                                                                                  \n",
      " activation_25 (Activation)     (None, 112, 112, 64  0           ['add_25[0][0]']                 \n",
      "                                )                                                                 \n",
      "                                                                                                  \n",
      " max_pooling2d_25 (MaxPooling2D  (None, 56, 56, 64)  0           ['activation_25[0][0]']          \n",
      " )                                                                                                \n",
      "                                                                                                  \n",
      " batch_normalization_112 (Batch  (None, 56, 56, 64)  256         ['max_pooling2d_25[0][0]']       \n",
      " Normalization)                                                                                   \n",
      "                                                                                                  \n",
      " conv2d_79 (Conv2D)             (None, 56, 56, 128)  73856       ['batch_normalization_112[0][0]']\n",
      "                                                                                                  \n",
      " batch_normalization_114 (Batch  (None, 56, 56, 128)  512        ['conv2d_79[0][0]']              \n",
      " Normalization)                                                                                   \n",
      "                                                                                                  \n",
      " conv2d_78 (Conv2D)             (None, 56, 56, 128)  8320        ['batch_normalization_112[0][0]']\n",
      "                                                                                                  \n",
      " conv2d_80 (Conv2D)             (None, 56, 56, 128)  147584      ['batch_normalization_114[0][0]']\n",
      "                                                                                                  \n",
      " batch_normalization_113 (Batch  (None, 56, 56, 128)  512        ['conv2d_78[0][0]']              \n",
      " Normalization)                                                                                   \n",
      "                                                                                                  \n"
     ]
    },
    {
     "name": "stdout",
     "output_type": "stream",
     "text": [
      " batch_normalization_115 (Batch  (None, 56, 56, 128)  512        ['conv2d_80[0][0]']              \n",
      " Normalization)                                                                                   \n",
      "                                                                                                  \n",
      " add_26 (Add)                   (None, 56, 56, 128)  0           ['batch_normalization_113[0][0]',\n",
      "                                                                  'batch_normalization_115[0][0]']\n",
      "                                                                                                  \n",
      " activation_26 (Activation)     (None, 56, 56, 128)  0           ['add_26[0][0]']                 \n",
      "                                                                                                  \n",
      " max_pooling2d_26 (MaxPooling2D  (None, 28, 28, 128)  0          ['activation_26[0][0]']          \n",
      " )                                                                                                \n",
      "                                                                                                  \n",
      " batch_normalization_116 (Batch  (None, 28, 28, 128)  512        ['max_pooling2d_26[0][0]']       \n",
      " Normalization)                                                                                   \n",
      "                                                                                                  \n",
      " flatten_8 (Flatten)            (None, 100352)       0           ['batch_normalization_116[0][0]']\n",
      "                                                                                                  \n",
      " dense_24 (Dense)               (None, 128)          12845184    ['flatten_8[0][0]']              \n",
      "                                                                                                  \n",
      " dense_25 (Dense)               (None, 192)          24768       ['dense_24[0][0]']               \n",
      "                                                                                                  \n",
      " dense_26 (Dense)               (None, 25)           4825        ['dense_25[0][0]']               \n",
      "                                                                                                  \n",
      "==================================================================================================\n",
      "Total params: 13,175,941\n",
      "Trainable params: 13,174,143\n",
      "Non-trainable params: 1,798\n",
      "__________________________________________________________________________________________________\n",
      "Epoch 1/25\n",
      "635/635 [==============================] - ETA: 0s - loss: 3.2885 - accuracy: 0.1939"
     ]
    },
    {
     "name": "stderr",
     "output_type": "stream",
     "text": [
      "WARNING:absl:Found untraced functions such as _jit_compiled_convolution_op, _jit_compiled_convolution_op, _jit_compiled_convolution_op, _jit_compiled_convolution_op, _jit_compiled_convolution_op while saving (showing 5 of 9). These functions will not be directly callable after loading.\n"
     ]
    },
    {
     "name": "stdout",
     "output_type": "stream",
     "text": [
      "INFO:tensorflow:Assets written to: checkpoints/20230526-171326-8/assets\n"
     ]
    },
    {
     "name": "stderr",
     "output_type": "stream",
     "text": [
      "INFO:tensorflow:Assets written to: checkpoints/20230526-171326-8/assets\n"
     ]
    },
    {
     "name": "stdout",
     "output_type": "stream",
     "text": [
      "635/635 [==============================] - 113s 171ms/step - loss: 3.2885 - accuracy: 0.1939 - val_loss: 2.3381 - val_accuracy: 0.2805\n",
      "Epoch 2/25\n",
      "635/635 [==============================] - ETA: 0s - loss: 2.1427 - accuracy: 0.3268"
     ]
    },
    {
     "name": "stderr",
     "output_type": "stream",
     "text": [
      "WARNING:absl:Found untraced functions such as _jit_compiled_convolution_op, _jit_compiled_convolution_op, _jit_compiled_convolution_op, _jit_compiled_convolution_op, _jit_compiled_convolution_op while saving (showing 5 of 9). These functions will not be directly callable after loading.\n"
     ]
    },
    {
     "name": "stdout",
     "output_type": "stream",
     "text": [
      "INFO:tensorflow:Assets written to: checkpoints/20230526-171326-8/assets\n"
     ]
    },
    {
     "name": "stderr",
     "output_type": "stream",
     "text": [
      "INFO:tensorflow:Assets written to: checkpoints/20230526-171326-8/assets\n"
     ]
    },
    {
     "name": "stdout",
     "output_type": "stream",
     "text": [
      "635/635 [==============================] - 109s 171ms/step - loss: 2.1427 - accuracy: 0.3268 - val_loss: 2.2804 - val_accuracy: 0.3607\n",
      "Epoch 3/25\n",
      "635/635 [==============================] - ETA: 0s - loss: 1.7332 - accuracy: 0.4520"
     ]
    },
    {
     "name": "stderr",
     "output_type": "stream",
     "text": [
      "WARNING:absl:Found untraced functions such as _jit_compiled_convolution_op, _jit_compiled_convolution_op, _jit_compiled_convolution_op, _jit_compiled_convolution_op, _jit_compiled_convolution_op while saving (showing 5 of 9). These functions will not be directly callable after loading.\n"
     ]
    },
    {
     "name": "stdout",
     "output_type": "stream",
     "text": [
      "INFO:tensorflow:Assets written to: checkpoints/20230526-171326-8/assets\n"
     ]
    },
    {
     "name": "stderr",
     "output_type": "stream",
     "text": [
      "INFO:tensorflow:Assets written to: checkpoints/20230526-171326-8/assets\n"
     ]
    },
    {
     "name": "stdout",
     "output_type": "stream",
     "text": [
      "635/635 [==============================] - 109s 172ms/step - loss: 1.7332 - accuracy: 0.4520 - val_loss: 1.8530 - val_accuracy: 0.4360\n",
      "Epoch 4/25\n",
      "635/635 [==============================] - ETA: 0s - loss: 1.4189 - accuracy: 0.5466"
     ]
    },
    {
     "name": "stderr",
     "output_type": "stream",
     "text": [
      "WARNING:absl:Found untraced functions such as _jit_compiled_convolution_op, _jit_compiled_convolution_op, _jit_compiled_convolution_op, _jit_compiled_convolution_op, _jit_compiled_convolution_op while saving (showing 5 of 9). These functions will not be directly callable after loading.\n"
     ]
    },
    {
     "name": "stdout",
     "output_type": "stream",
     "text": [
      "INFO:tensorflow:Assets written to: checkpoints/20230526-171326-8/assets\n"
     ]
    },
    {
     "name": "stderr",
     "output_type": "stream",
     "text": [
      "INFO:tensorflow:Assets written to: checkpoints/20230526-171326-8/assets\n"
     ]
    },
    {
     "name": "stdout",
     "output_type": "stream",
     "text": [
      "635/635 [==============================] - 109s 171ms/step - loss: 1.4189 - accuracy: 0.5466 - val_loss: 2.0525 - val_accuracy: 0.4271\n",
      "79/79 [==============================] - 4s 46ms/step - loss: 2.1911 - accuracy: 0.4132\n",
      "Model: \"model_9\"\n",
      "__________________________________________________________________________________________________\n",
      " Layer (type)                   Output Shape         Param #     Connected to                     \n",
      "==================================================================================================\n",
      " input_10 (InputLayer)          [(None, 224, 224, 3  0           []                               \n",
      "                                )]                                                                \n",
      "                                                                                                  \n",
      " batch_normalization_117 (Batch  (None, 224, 224, 3)  12         ['input_10[0][0]']               \n",
      " Normalization)                                                                                   \n",
      "                                                                                                  \n",
      " conv2d_82 (Conv2D)             (None, 224, 224, 32  896         ['batch_normalization_117[0][0]']\n",
      "                                )                                                                 \n",
      "                                                                                                  \n",
      " batch_normalization_119 (Batch  (None, 224, 224, 32  128        ['conv2d_82[0][0]']              \n",
      " Normalization)                 )                                                                 \n",
      "                                                                                                  \n",
      " conv2d_81 (Conv2D)             (None, 224, 224, 32  128         ['batch_normalization_117[0][0]']\n",
      "                                )                                                                 \n",
      "                                                                                                  \n",
      " conv2d_83 (Conv2D)             (None, 224, 224, 32  9248        ['batch_normalization_119[0][0]']\n",
      "                                )                                                                 \n",
      "                                                                                                  \n",
      " batch_normalization_118 (Batch  (None, 224, 224, 32  128        ['conv2d_81[0][0]']              \n",
      " Normalization)                 )                                                                 \n",
      "                                                                                                  \n",
      " batch_normalization_120 (Batch  (None, 224, 224, 32  128        ['conv2d_83[0][0]']              \n",
      " Normalization)                 )                                                                 \n",
      "                                                                                                  \n",
      " add_27 (Add)                   (None, 224, 224, 32  0           ['batch_normalization_118[0][0]',\n",
      "                                )                                 'batch_normalization_120[0][0]']\n",
      "                                                                                                  \n",
      " activation_27 (Activation)     (None, 224, 224, 32  0           ['add_27[0][0]']                 \n",
      "                                )                                                                 \n",
      "                                                                                                  \n",
      " max_pooling2d_27 (MaxPooling2D  (None, 112, 112, 32  0          ['activation_27[0][0]']          \n",
      " )                              )                                                                 \n",
      "                                                                                                  \n",
      " batch_normalization_121 (Batch  (None, 112, 112, 32  128        ['max_pooling2d_27[0][0]']       \n",
      " Normalization)                 )                                                                 \n",
      "                                                                                                  \n",
      " conv2d_85 (Conv2D)             (None, 112, 112, 64  18496       ['batch_normalization_121[0][0]']\n",
      "                                )                                                                 \n",
      "                                                                                                  \n",
      " batch_normalization_123 (Batch  (None, 112, 112, 64  256        ['conv2d_85[0][0]']              \n",
      " Normalization)                 )                                                                 \n",
      "                                                                                                  \n",
      " conv2d_84 (Conv2D)             (None, 112, 112, 64  2112        ['batch_normalization_121[0][0]']\n",
      "                                )                                                                 \n",
      "                                                                                                  \n",
      " conv2d_86 (Conv2D)             (None, 112, 112, 64  36928       ['batch_normalization_123[0][0]']\n",
      "                                )                                                                 \n",
      "                                                                                                  \n",
      " batch_normalization_122 (Batch  (None, 112, 112, 64  256        ['conv2d_84[0][0]']              \n",
      " Normalization)                 )                                                                 \n",
      "                                                                                                  \n",
      " batch_normalization_124 (Batch  (None, 112, 112, 64  256        ['conv2d_86[0][0]']              \n",
      " Normalization)                 )                                                                 \n",
      "                                                                                                  \n",
      " add_28 (Add)                   (None, 112, 112, 64  0           ['batch_normalization_122[0][0]',\n",
      "                                )                                 'batch_normalization_124[0][0]']\n",
      "                                                                                                  \n",
      " activation_28 (Activation)     (None, 112, 112, 64  0           ['add_28[0][0]']                 \n",
      "                                )                                                                 \n",
      "                                                                                                  \n",
      " max_pooling2d_28 (MaxPooling2D  (None, 56, 56, 64)  0           ['activation_28[0][0]']          \n",
      " )                                                                                                \n",
      "                                                                                                  \n",
      " batch_normalization_125 (Batch  (None, 56, 56, 64)  256         ['max_pooling2d_28[0][0]']       \n",
      " Normalization)                                                                                   \n",
      "                                                                                                  \n",
      " conv2d_88 (Conv2D)             (None, 56, 56, 128)  73856       ['batch_normalization_125[0][0]']\n",
      "                                                                                                  \n",
      " batch_normalization_127 (Batch  (None, 56, 56, 128)  512        ['conv2d_88[0][0]']              \n",
      " Normalization)                                                                                   \n",
      "                                                                                                  \n",
      " conv2d_87 (Conv2D)             (None, 56, 56, 128)  8320        ['batch_normalization_125[0][0]']\n",
      "                                                                                                  \n",
      " conv2d_89 (Conv2D)             (None, 56, 56, 128)  147584      ['batch_normalization_127[0][0]']\n",
      "                                                                                                  \n",
      " batch_normalization_126 (Batch  (None, 56, 56, 128)  512        ['conv2d_87[0][0]']              \n",
      " Normalization)                                                                                   \n",
      "                                                                                                  \n"
     ]
    },
    {
     "name": "stdout",
     "output_type": "stream",
     "text": [
      " batch_normalization_128 (Batch  (None, 56, 56, 128)  512        ['conv2d_89[0][0]']              \n",
      " Normalization)                                                                                   \n",
      "                                                                                                  \n",
      " add_29 (Add)                   (None, 56, 56, 128)  0           ['batch_normalization_126[0][0]',\n",
      "                                                                  'batch_normalization_128[0][0]']\n",
      "                                                                                                  \n",
      " activation_29 (Activation)     (None, 56, 56, 128)  0           ['add_29[0][0]']                 \n",
      "                                                                                                  \n",
      " max_pooling2d_29 (MaxPooling2D  (None, 28, 28, 128)  0          ['activation_29[0][0]']          \n",
      " )                                                                                                \n",
      "                                                                                                  \n",
      " batch_normalization_129 (Batch  (None, 28, 28, 128)  512        ['max_pooling2d_29[0][0]']       \n",
      " Normalization)                                                                                   \n",
      "                                                                                                  \n",
      " flatten_9 (Flatten)            (None, 100352)       0           ['batch_normalization_129[0][0]']\n",
      "                                                                                                  \n",
      " dense_27 (Dense)               (None, 128)          12845184    ['flatten_9[0][0]']              \n",
      "                                                                                                  \n",
      " dense_28 (Dense)               (None, 192)          24768       ['dense_27[0][0]']               \n",
      "                                                                                                  \n",
      " dense_29 (Dense)               (None, 25)           4825        ['dense_28[0][0]']               \n",
      "                                                                                                  \n",
      "==================================================================================================\n",
      "Total params: 13,175,941\n",
      "Trainable params: 13,174,143\n",
      "Non-trainable params: 1,798\n",
      "__________________________________________________________________________________________________\n",
      "Epoch 1/25\n",
      "635/635 [==============================] - ETA: 0s - loss: 3.3744 - accuracy: 0.2320"
     ]
    },
    {
     "name": "stderr",
     "output_type": "stream",
     "text": [
      "WARNING:absl:Found untraced functions such as _jit_compiled_convolution_op, _jit_compiled_convolution_op, _jit_compiled_convolution_op, _jit_compiled_convolution_op, _jit_compiled_convolution_op while saving (showing 5 of 9). These functions will not be directly callable after loading.\n"
     ]
    },
    {
     "name": "stdout",
     "output_type": "stream",
     "text": [
      "INFO:tensorflow:Assets written to: checkpoints/20230526-171326-9/assets\n"
     ]
    },
    {
     "name": "stderr",
     "output_type": "stream",
     "text": [
      "INFO:tensorflow:Assets written to: checkpoints/20230526-171326-9/assets\n"
     ]
    },
    {
     "name": "stdout",
     "output_type": "stream",
     "text": [
      "635/635 [==============================] - 114s 172ms/step - loss: 3.3744 - accuracy: 0.2320 - val_loss: 2.4467 - val_accuracy: 0.2676\n",
      "Epoch 2/25\n",
      "635/635 [==============================] - ETA: 0s - loss: 1.9981 - accuracy: 0.4019"
     ]
    },
    {
     "name": "stderr",
     "output_type": "stream",
     "text": [
      "WARNING:absl:Found untraced functions such as _jit_compiled_convolution_op, _jit_compiled_convolution_op, _jit_compiled_convolution_op, _jit_compiled_convolution_op, _jit_compiled_convolution_op while saving (showing 5 of 9). These functions will not be directly callable after loading.\n"
     ]
    },
    {
     "name": "stdout",
     "output_type": "stream",
     "text": [
      "INFO:tensorflow:Assets written to: checkpoints/20230526-171326-9/assets\n"
     ]
    },
    {
     "name": "stderr",
     "output_type": "stream",
     "text": [
      "INFO:tensorflow:Assets written to: checkpoints/20230526-171326-9/assets\n"
     ]
    },
    {
     "name": "stdout",
     "output_type": "stream",
     "text": [
      "635/635 [==============================] - 109s 171ms/step - loss: 1.9981 - accuracy: 0.4019 - val_loss: 2.1353 - val_accuracy: 0.3859\n",
      "Epoch 3/25\n",
      "635/635 [==============================] - ETA: 0s - loss: 1.5439 - accuracy: 0.5283"
     ]
    },
    {
     "name": "stderr",
     "output_type": "stream",
     "text": [
      "WARNING:absl:Found untraced functions such as _jit_compiled_convolution_op, _jit_compiled_convolution_op, _jit_compiled_convolution_op, _jit_compiled_convolution_op, _jit_compiled_convolution_op while saving (showing 5 of 9). These functions will not be directly callable after loading.\n"
     ]
    },
    {
     "name": "stdout",
     "output_type": "stream",
     "text": [
      "INFO:tensorflow:Assets written to: checkpoints/20230526-171326-9/assets\n"
     ]
    },
    {
     "name": "stderr",
     "output_type": "stream",
     "text": [
      "INFO:tensorflow:Assets written to: checkpoints/20230526-171326-9/assets\n"
     ]
    },
    {
     "name": "stdout",
     "output_type": "stream",
     "text": [
      "635/635 [==============================] - 109s 172ms/step - loss: 1.5439 - accuracy: 0.5283 - val_loss: 1.9669 - val_accuracy: 0.4847\n",
      "Epoch 4/25\n",
      "635/635 [==============================] - ETA: 0s - loss: 1.1970 - accuracy: 0.6306"
     ]
    },
    {
     "name": "stderr",
     "output_type": "stream",
     "text": [
      "WARNING:absl:Found untraced functions such as _jit_compiled_convolution_op, _jit_compiled_convolution_op, _jit_compiled_convolution_op, _jit_compiled_convolution_op, _jit_compiled_convolution_op while saving (showing 5 of 9). These functions will not be directly callable after loading.\n"
     ]
    },
    {
     "name": "stdout",
     "output_type": "stream",
     "text": [
      "INFO:tensorflow:Assets written to: checkpoints/20230526-171326-9/assets\n"
     ]
    },
    {
     "name": "stderr",
     "output_type": "stream",
     "text": [
      "INFO:tensorflow:Assets written to: checkpoints/20230526-171326-9/assets\n"
     ]
    },
    {
     "name": "stdout",
     "output_type": "stream",
     "text": [
      "635/635 [==============================] - 109s 171ms/step - loss: 1.1970 - accuracy: 0.6306 - val_loss: 1.7933 - val_accuracy: 0.5073\n",
      "Epoch 5/25\n",
      "635/635 [==============================] - ETA: 0s - loss: 0.9224 - accuracy: 0.7156"
     ]
    },
    {
     "name": "stderr",
     "output_type": "stream",
     "text": [
      "WARNING:absl:Found untraced functions such as _jit_compiled_convolution_op, _jit_compiled_convolution_op, _jit_compiled_convolution_op, _jit_compiled_convolution_op, _jit_compiled_convolution_op while saving (showing 5 of 9). These functions will not be directly callable after loading.\n"
     ]
    },
    {
     "name": "stdout",
     "output_type": "stream",
     "text": [
      "INFO:tensorflow:Assets written to: checkpoints/20230526-171326-9/assets\n"
     ]
    },
    {
     "name": "stderr",
     "output_type": "stream",
     "text": [
      "INFO:tensorflow:Assets written to: checkpoints/20230526-171326-9/assets\n"
     ]
    },
    {
     "name": "stdout",
     "output_type": "stream",
     "text": [
      "635/635 [==============================] - 109s 172ms/step - loss: 0.9224 - accuracy: 0.7156 - val_loss: 1.7638 - val_accuracy: 0.5419\n",
      "Epoch 6/25\n",
      "635/635 [==============================] - ETA: 0s - loss: 0.7078 - accuracy: 0.7819"
     ]
    },
    {
     "name": "stderr",
     "output_type": "stream",
     "text": [
      "WARNING:absl:Found untraced functions such as _jit_compiled_convolution_op, _jit_compiled_convolution_op, _jit_compiled_convolution_op, _jit_compiled_convolution_op, _jit_compiled_convolution_op while saving (showing 5 of 9). These functions will not be directly callable after loading.\n"
     ]
    },
    {
     "name": "stdout",
     "output_type": "stream",
     "text": [
      "INFO:tensorflow:Assets written to: checkpoints/20230526-171326-9/assets\n"
     ]
    },
    {
     "name": "stderr",
     "output_type": "stream",
     "text": [
      "INFO:tensorflow:Assets written to: checkpoints/20230526-171326-9/assets\n"
     ]
    },
    {
     "name": "stdout",
     "output_type": "stream",
     "text": [
      "635/635 [==============================] - 109s 172ms/step - loss: 0.7078 - accuracy: 0.7819 - val_loss: 1.8673 - val_accuracy: 0.5494\n",
      "79/79 [==============================] - 4s 45ms/step - loss: 1.9996 - accuracy: 0.5336\n"
     ]
    }
   ],
   "source": [
    "def run(id):\n",
    "    model = generate_model(\n",
    "        [\n",
    "            # filters, kernel_size, depth, pool\n",
    "            (32, 3, 2, 2),\n",
    "            (64, 3, 2, 2),\n",
    "            (128, 3, 2, 2),\n",
    "        ], \n",
    "        [\n",
    "            # units\n",
    "            128,\n",
    "            192,\n",
    "        ])\n",
    "    model.summary()\n",
    "    \n",
    "    with open(f'models/{id}.json', 'w') as f:\n",
    "        f.write(model.to_json())\n",
    "        \n",
    "    model.fit(\n",
    "        train,\n",
    "        validation_data=validation,\n",
    "        epochs=25, \n",
    "        #batch_size=16,\n",
    "        callbacks=[\n",
    "            tf.keras.callbacks.EarlyStopping(),\n",
    "            tf.keras.callbacks.TensorBoard(\n",
    "                log_dir=f'logs/fit/{id}'\n",
    "            ),\n",
    "            tf.keras.callbacks.ModelCheckpoint(\n",
    "                filepath=f'checkpoints/{id}',\n",
    "                monitor='val_accuracy',\n",
    "            )\n",
    "        ]\n",
    "    )\n",
    "        \n",
    "    model.evaluate(\n",
    "        test, \n",
    "        callbacks=[\n",
    "            tf.keras.callbacks.TensorBoard(\n",
    "                log_dir=f'logs/evaluate/{id}'\n",
    "            )\n",
    "        ]\n",
    "    )\n",
    "    \n",
    "\n",
    "now = datetime.datetime.now().strftime('%Y%m%d-%H%M%S')\n",
    "for i in range(10):\n",
    "    run(f'{now}-{i}')"
   ]
  },
  {
   "cell_type": "code",
   "execution_count": null,
   "id": "4746ce01",
   "metadata": {},
   "outputs": [],
   "source": []
  },
  {
   "cell_type": "code",
   "execution_count": null,
   "id": "6477c7ed",
   "metadata": {},
   "outputs": [],
   "source": []
  }
 ],
 "metadata": {
  "kernelspec": {
   "display_name": "Python 3 (ipykernel)",
   "language": "python",
   "name": "python3"
  },
  "language_info": {
   "codemirror_mode": {
    "name": "ipython",
    "version": 3
   },
   "file_extension": ".py",
   "mimetype": "text/x-python",
   "name": "python",
   "nbconvert_exporter": "python",
   "pygments_lexer": "ipython3",
   "version": "3.8.10"
  }
 },
 "nbformat": 4,
 "nbformat_minor": 5
}
